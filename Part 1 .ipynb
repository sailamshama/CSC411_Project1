{
 "cells": [
  {
   "cell_type": "code",
   "execution_count": null,
   "metadata": {},
   "outputs": [],
   "source": [
    "'''\n",
    "PURPOSE: \n",
    "Download images from web into a folder.\n",
    "    should I store each actor in a different folder? \n",
    "    Do not download if images take too long\n",
    "    -----Do not download if broken link\n",
    "    -----save images as actorname_number\n",
    "Crop to bounding boxes, convert to grayscale and resize images. \n",
    "'''"
   ]
  },
  {
   "cell_type": "code",
   "execution_count": null,
   "metadata": {},
   "outputs": [],
   "source": [
    "import urllib\n",
    "import os\n",
    "import numpy as np\n",
    "import pandas as pd\n",
    "from random import randrange\n",
    "import sys\n",
    "from scipy.misc import imread, imshow, imresize\n",
    "import matplotlib.pyplot as plt"
   ]
  },
  {
   "cell_type": "code",
   "execution_count": null,
   "metadata": {
    "collapsed": true
   },
   "outputs": [],
   "source": [
    "def rgb2gray(rgb):\n",
    "    '''Return the grayscale version of the RGB image rgb as a 2D numpy array\n",
    "    whose range is 0..1\n",
    "    Arguments:\n",
    "    rgb -- an RGB image, represented as a numpy array of size n x m x 3. The\n",
    "    range of the values is 0..255\n",
    "    '''\n",
    "    \n",
    "    r, g, b = rgb[:,:,0], rgb[:,:,1], rgb[:,:,2]\n",
    "    gray = 0.2989 * r + 0.5870 * g + 0.1140 * b\n",
    "\n",
    "    return gray/255."
   ]
  },
  {
   "cell_type": "code",
   "execution_count": 230,
   "metadata": {
    "collapsed": true
   },
   "outputs": [],
   "source": [
    "def process_img(image, coords):\n",
    "    image_cropped = image[coords[1]:coords[3], coords[0]:coords[2], :]\n",
    "    image_gray  = rgb2gray(image_cropped)\n",
    "    processed_image = imresize(image_gray, (32,32))\n",
    "    \n",
    "    return processed_image"
   ]
  },
  {
   "cell_type": "code",
   "execution_count": 231,
   "metadata": {},
   "outputs": [
    {
     "name": "stderr",
     "output_type": "stream",
     "text": [
      "/Users/Admin/anaconda3/envs/CSC411_py2_env/lib/python2.7/site-packages/ipykernel_launcher.py:4: DeprecationWarning: `imresize` is deprecated!\n",
      "`imresize` is deprecated in SciPy 1.0.0, and will be removed in 1.2.0.\n",
      "Use ``skimage.transform.resize`` instead.\n",
      "  after removing the cwd from sys.path.\n"
     ]
    },
    {
     "data": {
      "text/plain": [
       "<matplotlib.image.AxesImage at 0x115a55e10>"
      ]
     },
     "execution_count": 231,
     "metadata": {},
     "output_type": "execute_result"
    },
    {
     "data": {
      "image/png": "[encoded data removed]",
      "text/plain": [
       "<matplotlib.figure.Figure at 0x11591aa90>"
      ]
     },
     "metadata": {},
     "output_type": "display_data"
    }
   ],
   "source": [
    "image0_processed = process_img(image0,(25,16,170,192))\n",
    "plt.imshow(image0_processed)"
   ]
  },
  {
   "cell_type": "code",
   "execution_count": 234,
   "metadata": {},
   "outputs": [
    {
     "data": {
      "text/plain": [
       "array([[185, 190, 183, ..., 177, 169, 168],\n",
       "       [187, 190, 192, ..., 179, 182, 172],\n",
       "       [183, 189, 190, ..., 186, 188, 183],\n",
       "       ...,\n",
       "       [241, 237, 239, ...,  19,  20,  21],\n",
       "       [241, 240, 239, ...,  19,  19,  18],\n",
       "       [241, 240, 240, ...,  22,  20,  20]], dtype=uint8)"
      ]
     },
     "execution_count": 234,
     "metadata": {},
     "output_type": "execute_result"
    }
   ],
   "source": [
    "\n"
   ]
  },
  {
   "cell_type": "code",
   "execution_count": null,
   "metadata": {
    "collapsed": true
   },
   "outputs": [],
   "source": [
    "act = list(set([a.split(\"\\n\")[0] for a in open(\"subset_actors.txt\").readlines()]))"
   ]
  },
  {
   "cell_type": "code",
   "execution_count": null,
   "metadata": {},
   "outputs": [],
   "source": [
    "#read line of image data\n",
    "facescrub_actresses = pd.read_table(\"facescrub_actresses.txt\",sep=\"\\t\",header=None)\n",
    "facescrub_actresses.columns = [\"Name\", \"Col1\", \"Col2\", \"URL\", \"Coordinates\", \"Col5\"]"
   ]
  },
  {
   "cell_type": "code",
   "execution_count": null,
   "metadata": {},
   "outputs": [],
   "source": [
    "#Delete columns with seemingly gibberish data\n",
    "facescrub_actresses_trimmed = facescrub_actresses.drop(facescrub_actresses.columns[[1,2,5]], axis = 1)"
   ]
  },
  {
   "cell_type": "code",
   "execution_count": null,
   "metadata": {},
   "outputs": [],
   "source": [
    "facescrub_actresses_trimmed.head(10)"
   ]
  },
  {
   "cell_type": "code",
   "execution_count": null,
   "metadata": {
    "collapsed": true
   },
   "outputs": [],
   "source": [
    "#create directory for uncropped images\n",
    "current_directory = os.getcwd()\n",
    "images = os.path.join(current_directory, r'images')\n",
    "if not os.path.exists(images):\n",
    "   os.makedirs(images)"
   ]
  },
  {
   "cell_type": "code",
   "execution_count": null,
   "metadata": {
    "collapsed": true
   },
   "outputs": [],
   "source": [
    "#create directory for each actor\n",
    "for actor in act:\n",
    "    actor_directory = os.path.join(images,actor)\n",
    "    if not os.path.exists(actor_directory):\n",
    "        os.makedirs(actor_directory)\n",
    "        os.makedirs(os.path.join(actor_directory,actor+r'_uncropped'))\n",
    "        os.makedirs(os.path.join(actor_directory,actor+r'_processed'))\n",
    "        "
   ]
  },
  {
   "cell_type": "code",
   "execution_count": null,
   "metadata": {
    "scrolled": false
   },
   "outputs": [],
   "source": [
    "#iterate over the data frame SAMPLE to open the url and save image\n",
    "i=0\n",
    "for index, row in facescrub_actresses_trimmed.head(3).iterrows():\n",
    "    actor = row['Name']\n",
    "    if actor in act:\n",
    "          \n",
    "        image_name = actor+'_{}.jpg'.format(i)\n",
    "        uncropped_dir = os.path.join(images,actor,actor+r'_uncropped')\n",
    "        image_name_w_path = os.path.join(uncropped_dir,image_name)\n",
    "\n",
    "        \n",
    "        try:\n",
    "            urllib.urlretrieve(row['URL'],image_name_w_path)\n",
    "            image= imread(image_name_w_path)\n",
    "            i+=1\n",
    "            print(image_name_w_path)\n",
    "            print(\"working:     \"+row['URL'])\n",
    "        except Exception:\n",
    "            #if url is broken\n",
    "            sys.exc_clear()\n",
    "            print(\"not working:     \"+row['URL'])\n",
    "\n",
    "#         try:\n",
    "#             #add image to complete dataset\n",
    "#             image = imread(image_name_w_path)\n",
    "#             i+=1\n",
    "#         except Exception: \n",
    "#             #if image file doesn't open\n",
    "#             sys.exc_clear()\n",
    "#             os.remove(image_name_w_path)\n",
    "\n",
    "        \n",
    "        "
   ]
  },
  {
   "cell_type": "code",
   "execution_count": null,
   "metadata": {
    "collapsed": true
   },
   "outputs": [],
   "source": [
    "'''\n",
    "PURPOSE: read images, while handling exceptions of bad file\n",
    "'''"
   ]
  },
  {
   "cell_type": "code",
   "execution_count": null,
   "metadata": {},
   "outputs": [],
   "source": [
    "'''\n",
    "PURPOSE: add image data to a dataframe.\n",
    "'''\n",
    "image0 = imread(\"/Users/Admin/Desktop/Y3S2/CSC411 - Machine Learning/CSC411_Project1/images/Lorraine Bracco/Lorraine Bracco_uncropped/Lorraine Bracco_0.jpg\")\n",
    "image1 = imread(\"/Users/Admin/Desktop/Y3S2/CSC411 - Machine Learning/CSC411_Project1/images/Lorraine Bracco/Lorraine Bracco_uncropped/Lorraine Bracco_1.jpg\")\n"
   ]
  },
  {
   "cell_type": "code",
   "execution_count": 216,
   "metadata": {},
   "outputs": [
    {
     "data": {
      "text/plain": [
       "(247, 178, 3)"
      ]
     },
     "execution_count": 216,
     "metadata": {},
     "output_type": "execute_result"
    }
   ],
   "source": [
    "image0.shape"
   ]
  },
  {
   "cell_type": "code",
   "execution_count": 222,
   "metadata": {},
   "outputs": [],
   "source": [
    "'''\n",
    "PURPOSE: crop images to its size\n",
    "given coordinates x1,y1,x2,y2\n",
    "crop image as I[y1:y2, x1:x2]\n",
    "'''\n",
    "image0_box = (25,16,170,192)\n",
    "image0_cropped = image0[image0_box[1]:image0_box[3], image0_box[0]:image0_box[2], :]\n"
   ]
  },
  {
   "cell_type": "code",
   "execution_count": 223,
   "metadata": {},
   "outputs": [
    {
     "data": {
      "text/plain": [
       "<matplotlib.image.AxesImage at 0x11410ae90>"
      ]
     },
     "execution_count": 223,
     "metadata": {},
     "output_type": "execute_result"
    },
    {
     "data": {
      "image/png": "[encoded data removed]",
      "text/plain": [
       "<matplotlib.figure.Figure at 0x115bd8950>"
      ]
     },
     "metadata": {},
     "output_type": "display_data"
    }
   ],
   "source": [
    "image0_cropped.shape\n",
    "plt.imshow(image0_cropped)"
   ]
  },
  {
   "cell_type": "code",
   "execution_count": null,
   "metadata": {},
   "outputs": [],
   "source": [
    "'''\n",
    "PURPOSE: Convert to grayscale\n",
    "'''\n",
    "image0_gray  = rgb2gray(image0)\n",
    "image1_gray = rgb2gray(image1)\n",
    "\n",
    "plt.imshow(image1_gray)"
   ]
  },
  {
   "cell_type": "code",
   "execution_count": null,
   "metadata": {},
   "outputs": [],
   "source": [
    "#RESIZE\n",
    "\n",
    "image0_final = imresize(image0_gray, (32,32))\n",
    "type(image0_resized)\n",
    "print(image0.shape, image0_resized.shape)\n",
    "plt.imshow(image0_resized)\n",
    "\n",
    "\n",
    "image1_final = imresize(image1_gray, (32,32))\n",
    "type(image1_resized)\n",
    "print(image1.shape, image1_resized.shape)\n",
    "plt.imshow(image1_resized)\n",
    "\n",
    "\n",
    "plt.imshow(image0_final)\n",
    "\n"
   ]
  },
  {
   "cell_type": "code",
   "execution_count": null,
   "metadata": {},
   "outputs": [],
   "source": [
    "#stack images\n",
    "two_img_data = np.stack(image0_final,image1_final)\n"
   ]
  },
  {
   "cell_type": "code",
   "execution_count": null,
   "metadata": {},
   "outputs": [],
   "source": [
    "try:\n",
    "   urllib.urlretrieve(facescrub_actresses_trimmed.loc[,'URL'], image_name_w_path)\n",
    "except Exception:\n",
    "    sys.exc_clear()\n",
    "\n",
    "image = ndimage.imread(image_name_w_path)\n",
    "print(facescrub_actresses_trimmed.loc[1,'URL'])\n",
    "\n"
   ]
  },
  {
   "cell_type": "code",
   "execution_count": null,
   "metadata": {
    "collapsed": true
   },
   "outputs": [],
   "source": [
    "#store"
   ]
  },
  {
   "cell_type": "code",
   "execution_count": null,
   "metadata": {
    "collapsed": true
   },
   "outputs": [],
   "source": [
    "#crop"
   ]
  },
  {
   "cell_type": "code",
   "execution_count": null,
   "metadata": {
    "collapsed": true
   },
   "outputs": [],
   "source": [
    "#conver to grayscale"
   ]
  },
  {
   "cell_type": "code",
   "execution_count": null,
   "metadata": {
    "collapsed": true
   },
   "outputs": [],
   "source": [
    "#create data set\n",
    "#x\n",
    "#y"
   ]
  }
 ],
 "metadata": {
  "kernelspec": {
   "display_name": "CSC411_py2",
   "language": "python",
   "name": "csc411_py2"
  },
  "language_info": {
   "codemirror_mode": {
    "name": "ipython",
    "version": 2
   },
   "file_extension": ".py",
   "mimetype": "text/x-python",
   "name": "python",
   "nbconvert_exporter": "python",
   "pygments_lexer": "ipython2",
   "version": "2.7.14"
  }
 },
 "nbformat": 4,
 "nbformat_minor": 2
}
