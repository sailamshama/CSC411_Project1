{
 "cells": [
  {
   "cell_type": "code",
   "execution_count": null,
   "metadata": {
    "collapsed": true
   },
   "outputs": [],
   "source": [
    "'''\n",
    "PURPOSE: To display thetas obtained from training on 70img/actor training set and those obtained\n",
    "from training on 2imgs/actor training set\n",
    "\n",
    "Portion of Part 4 in Part_3.ipynb\n",
    "'''"
   ]
  },
  {
   "cell_type": "code",
   "execution_count": 9,
   "metadata": {
    "collapsed": true
   },
   "outputs": [],
   "source": [
    "import numpy as np\n",
    "import matplotlib.pyplot as plt"
   ]
  },
  {
   "cell_type": "code",
   "execution_count": null,
   "metadata": {
    "collapsed": true
   },
   "outputs": [],
   "source": [
    "#Probably garbage\n",
    "# def unflatten_x(x):\n",
    "#     #x is flattened train/val/test set\n",
    "#     #assume x.shape[1] gives you number of images in that set\n",
    "#     #don't forget to multiply by 255\n",
    "#     return x.reshape(32,32,x.shape[1])"
   ]
  },
  {
   "cell_type": "code",
   "execution_count": 19,
   "metadata": {
    "collapsed": true
   },
   "outputs": [],
   "source": [
    "#load thetas\n",
    "#remove theta0\n",
    "theta_complete = np.load(\"theta_part3_complete.npy\")[1:,] \n",
    "theta_small = np.load(\"theta_part3_small.npy\")[1:,]\n"
   ]
  },
  {
   "cell_type": "code",
   "execution_count": null,
   "metadata": {
    "collapsed": true
   },
   "outputs": [],
   "source": [
    "#convert thetas to 32x32 matrix\n",
    "theta_comp_2D = theta_complete.reshape(32,32)\n",
    "theta_small_2D = theta_complete.reshape(32,32)\n",
    "#why am I seeing the exact same thetas"
   ]
  },
  {
   "cell_type": "code",
   "execution_count": 21,
   "metadata": {},
   "outputs": [
    {
     "data": {
      "text/plain": [
       "array([[-0.79218593,  0.3230455 ,  0.08818067, ...,  0.26769073,\n",
       "         0.18004416, -0.21497135],\n",
       "       [-0.12189212, -0.43977905, -0.24128061, ..., -1.20655903,\n",
       "        -0.60988108, -0.25671644],\n",
       "       [ 0.09854533,  0.64940239, -0.66925764, ..., -0.46823386,\n",
       "         0.96585084, -0.15404975],\n",
       "       ..., \n",
       "       [-0.00840783,  0.16070149,  0.10176237, ..., -1.06578809,\n",
       "         0.07486833,  0.35899601],\n",
       "       [ 0.43358745,  0.16008588,  0.27774274, ...,  0.59074789,\n",
       "        -0.73458375, -0.38086239],\n",
       "       [-0.15809679, -0.28829928, -0.26089309, ...,  0.43795558,\n",
       "         0.20180728,  0.24760706]])"
      ]
     },
     "execution_count": 21,
     "metadata": {},
     "output_type": "execute_result"
    }
   ],
   "source": [
    "theta_comp_2D.view()"
   ]
  },
  {
   "cell_type": "code",
   "execution_count": 22,
   "metadata": {},
   "outputs": [
    {
     "data": {
      "text/plain": [
       "array([[-0.79218593,  0.3230455 ,  0.08818067, ...,  0.26769073,\n",
       "         0.18004416, -0.21497135],\n",
       "       [-0.12189212, -0.43977905, -0.24128061, ..., -1.20655903,\n",
       "        -0.60988108, -0.25671644],\n",
       "       [ 0.09854533,  0.64940239, -0.66925764, ..., -0.46823386,\n",
       "         0.96585084, -0.15404975],\n",
       "       ..., \n",
       "       [-0.00840783,  0.16070149,  0.10176237, ..., -1.06578809,\n",
       "         0.07486833,  0.35899601],\n",
       "       [ 0.43358745,  0.16008588,  0.27774274, ...,  0.59074789,\n",
       "        -0.73458375, -0.38086239],\n",
       "       [-0.15809679, -0.28829928, -0.26089309, ...,  0.43795558,\n",
       "         0.20180728,  0.24760706]])"
      ]
     },
     "execution_count": 22,
     "metadata": {},
     "output_type": "execute_result"
    }
   ],
   "source": [
    "theta_small_2D.view()"
   ]
  },
  {
   "cell_type": "code",
   "execution_count": 23,
   "metadata": {},
   "outputs": [
    {
     "data": {
      "text/plain": [
       "<matplotlib.image.AxesImage at 0x10ed4ca90>"
      ]
     },
     "execution_count": 23,
     "metadata": {},
     "output_type": "execute_result"
    },
    {
     "data": {
      "image/png": "[encoded data removed]",
      "text/plain": [
       "<matplotlib.figure.Figure at 0x10ec1a310>"
      ]
     },
     "metadata": {},
     "output_type": "display_data"
    }
   ],
   "source": [
    "plt.imshow(theta_comp_2D,cmap=\"RdBu\")"
   ]
  },
  {
   "cell_type": "code",
   "execution_count": null,
   "metadata": {
    "collapsed": true
   },
   "outputs": [],
   "source": [
    "#show and save"
   ]
  }
 ],
 "metadata": {
  "kernelspec": {
   "display_name": "CSC411_py2",
   "language": "python",
   "name": "csc411_py2"
  },
  "language_info": {
   "codemirror_mode": {
    "name": "ipython",
    "version": 2
   },
   "file_extension": ".py",
   "mimetype": "text/x-python",
   "name": "python",
   "nbconvert_exporter": "python",
   "pygments_lexer": "ipython2",
   "version": "2.7.14"
  }
 },
 "nbformat": 4,
 "nbformat_minor": 2
}
