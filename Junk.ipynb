{
 "cells": [
  {
   "cell_type": "code",
   "execution_count": null,
   "metadata": {
    "collapsed": true
   },
   "outputs": [],
   "source": [
    "'''\n",
    "testing the delete function\n",
    "'''\n",
    "# actor = 'Alec Baldwin'\n",
    "# start = np.where(y == actor)[0][0]\n",
    "# stop = np.where(y == actor)[0][-1]\n",
    "# actor_data = x[:,:,start:stop]\n",
    "# sample = actor_data[:,:,0:5]\n",
    "# plt.imshow(actor_data[:,:,2], cmap=\"gray\")\n",
    "# #delete\n",
    "# removed  = np.delete(sample, 1, axis = 2)\n",
    "# print(removed.shape)"
   ]
  },
  {
   "cell_type": "code",
   "execution_count": null,
   "metadata": {
    "collapsed": true
   },
   "outputs": [],
   "source": [
    "'''\n",
    "total number of images in the dataset\n",
    "'''\n",
    "# from os import listdir\n",
    "# from os.path import isfile, join\n",
    "# #need actor name\n",
    "# image_path = \n",
    "# onlyfiles = [f for f in listdir(mypath) if isfile(join(mypath, f))]"
   ]
  },
  {
   "cell_type": "code",
   "execution_count": null,
   "metadata": {
    "collapsed": true
   },
   "outputs": [],
   "source": [
    "'''\n",
    "trying to see all \n",
    "'''\n",
    "# actor = 'Alec Baldwin'\n",
    "# start = np.where(y == actor)[0][0]\n",
    "# stop = np.where(y == actor)[0][-1]\n",
    "# actor_data = x[:,:,start:stop]\n",
    "# img=None\n",
    "# for i in range(actor_data.shape[2]):\n",
    "#     im = actor_data[:,:,i]\n",
    "#     plt.imshow(im, cmap=\"gray\")"
   ]
  },
  {
   "cell_type": "code",
   "execution_count": null,
   "metadata": {
    "collapsed": true
   },
   "outputs": [],
   "source": [
    "'''\n",
    "split function with debugging print comments\n",
    "'''\n",
    "\n",
    "\n",
    "def split_dataset(x,y,train_size,val_size,test_size): \n",
    "\n",
    "    act = np.unique(y)\n",
    "    for num in range(len(act)):\n",
    "    \n",
    "        actor = act[num]\n",
    "        start = np.where(y == actor)[0][0]\n",
    "        stop = np.where(y == actor)[0][-1]\n",
    "        actor_data = x[:,:,start:stop]\n",
    "        \n",
    "#        print(actor)\n",
    "#        print(actor_data.shape)\n",
    "        \n",
    "        i=0\n",
    "        j=0\n",
    "        k=0\n",
    "        \n",
    "        #pick 70 images for train set\n",
    "        while (i < train_size): \n",
    "            rand = randint(0,actor_data.shape[2]-1)\n",
    "            if (num == 0 and i == 0):\n",
    "                x_train = actor_data[:,:,rand]\n",
    "                y_train = np.array([actor])\n",
    "            \n",
    "            else:\n",
    "                x_train = np.dstack((x_train, actor_data[:,:,rand]))\n",
    "                y_train = np.append(y_train,[actor])   \n",
    "            #remove data from \"source\" to avoid overlap between sets\n",
    "            actor_data = np.delete(actor_data, rand, axis = 2)\n",
    "            i+=1\n",
    "            \n",
    "#        print(x_train.shape, y_train.shape, actor_data.shape[2])\n",
    "        \n",
    "        \n",
    "        \n",
    "        \n",
    "        #pick 10 images for val set\n",
    "        while (j < val_size):\n",
    "            rand = randint(0,actor_data.shape[2]-1)\n",
    "            if (num == 0 and j == 0): \n",
    "                x_val = actor_data[:,:,rand]\n",
    "                y_val = np.array([actor])\n",
    "            else: \n",
    "                x_val = np.dstack((x_val, actor_data[:,:,rand]))\n",
    "                y_val = np.append(y_val,[actor])\n",
    "            #remove data from \"source\" to avoid overlap between sets\n",
    "            actor_data = np.delete(actor_data, rand, axis = 2)\n",
    "            j+=1\n",
    "#        print(x_val.shape, y_val.shape, actor_data.shape[2])\n",
    "        \n",
    "        \n",
    "        \n",
    "        \n",
    "        #pick 10 images for test set\n",
    "        while (k < test_size):\n",
    "            rand = randint(0,actor_data.shape[2]-1)\n",
    "            if (num == 0 and k ==0): \n",
    "                x_test = actor_data[:,:,rand]\n",
    "                y_test = np.array([actor])\n",
    "            else:\n",
    "                x_test = np.dstack((x_test, actor_data[:,:,rand]))\n",
    "                y_test = np.append(y_test,[actor])\n",
    "\n",
    "            #remove data from \"source\" to avoid overlap between sets\n",
    "            actor_data = np.delete(actor_data, rand, axis = 2)\n",
    "            k+=1\n",
    "#        print(x_test.shape, y_test.shape, actor_data.shape[2])\n",
    "        \n",
    "        \n",
    "        \n",
    "    return x_train, y_train, x_val, y_val, x_test, y_test"
   ]
  },
  {
   "cell_type": "code",
   "execution_count": null,
   "metadata": {
    "collapsed": true
   },
   "outputs": [],
   "source": [
    "print(x_train.shape , y_train.shape)\n",
    "print(x_val.shape , y_val.shape)\n",
    "print(x_test.shape , y_test.shape)\n",
    "\n"
   ]
  }
 ],
 "metadata": {
  "kernelspec": {
   "display_name": "CSC411_py2",
   "language": "python",
   "name": "csc411_py2"
  },
  "language_info": {
   "codemirror_mode": {
    "name": "ipython",
    "version": 2
   },
   "file_extension": ".py",
   "mimetype": "text/x-python",
   "name": "python",
   "nbconvert_exporter": "python",
   "pygments_lexer": "ipython2",
   "version": "2.7.14"
  }
 },
 "nbformat": 4,
 "nbformat_minor": 2
}
