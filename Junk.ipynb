{
 "cells": [
  {
   "cell_type": "code",
   "execution_count": 3,
   "metadata": {
    "collapsed": true
   },
   "outputs": [],
   "source": [
    "import numpy as np"
   ]
  },
  {
   "cell_type": "code",
   "execution_count": null,
   "metadata": {
    "collapsed": true
   },
   "outputs": [],
   "source": [
    "'''\n",
    "testing the delete function\n",
    "'''\n",
    "# actor = 'Alec Baldwin'\n",
    "# start = np.where(y == actor)[0][0]\n",
    "# stop = np.where(y == actor)[0][-1]\n",
    "# actor_data = x[:,:,start:stop]\n",
    "# sample = actor_data[:,:,0:5]\n",
    "# plt.imshow(actor_data[:,:,2], cmap=\"gray\")\n",
    "# #delete\n",
    "# removed  = np.delete(sample, 1, axis = 2)\n",
    "# print(removed.shape)"
   ]
  },
  {
   "cell_type": "code",
   "execution_count": null,
   "metadata": {
    "collapsed": true
   },
   "outputs": [],
   "source": [
    "'''\n",
    "total number of images in the dataset\n",
    "'''\n",
    "# from os import listdir\n",
    "# from os.path import isfile, join\n",
    "# #need actor name\n",
    "# image_path = \n",
    "# onlyfiles = [f for f in listdir(mypath) if isfile(join(mypath, f))]"
   ]
  },
  {
   "cell_type": "code",
   "execution_count": null,
   "metadata": {
    "collapsed": true
   },
   "outputs": [],
   "source": [
    "'''\n",
    "trying to see all \n",
    "'''\n",
    "# actor = 'Alec Baldwin'\n",
    "# start = np.where(y == actor)[0][0]\n",
    "# stop = np.where(y == actor)[0][-1]\n",
    "# actor_data = x[:,:,start:stop]\n",
    "# img=None\n",
    "# for i in range(actor_data.shape[2]):\n",
    "#     im = actor_data[:,:,i]\n",
    "#     plt.imshow(im, cmap=\"gray\")"
   ]
  },
  {
   "cell_type": "code",
   "execution_count": null,
   "metadata": {
    "collapsed": true
   },
   "outputs": [],
   "source": [
    "'''\n",
    "split function with debugging print comments\n",
    "'''\n",
    "\n",
    "\n",
    "def split_dataset(x,y,train_size,val_size,test_size): \n",
    "\n",
    "    act = np.unique(y)\n",
    "    for num in range(len(act)):\n",
    "    \n",
    "        actor = act[num]\n",
    "        start = np.where(y == actor)[0][0]\n",
    "        stop = np.where(y == actor)[0][-1]\n",
    "        actor_data = x[:,:,start:stop]\n",
    "        \n",
    "#        print(actor)\n",
    "#        print(actor_data.shape)\n",
    "        \n",
    "        i=0\n",
    "        j=0\n",
    "        k=0\n",
    "        \n",
    "        #pick 70 images for train set\n",
    "        while (i < train_size): \n",
    "            rand = randint(0,actor_data.shape[2]-1)\n",
    "            if (num == 0 and i == 0):\n",
    "                x_train = actor_data[:,:,rand]\n",
    "                y_train = np.array([actor])\n",
    "            \n",
    "            else:\n",
    "                x_train = np.dstack((x_train, actor_data[:,:,rand]))\n",
    "                y_train = np.append(y_train,[actor])   \n",
    "            #remove data from \"source\" to avoid overlap between sets\n",
    "            actor_data = np.delete(actor_data, rand, axis = 2)\n",
    "            i+=1\n",
    "            \n",
    "#        print(x_train.shape, y_train.shape, actor_data.shape[2])\n",
    "        \n",
    "        \n",
    "        \n",
    "        \n",
    "        #pick 10 images for val set\n",
    "        while (j < val_size):\n",
    "            rand = randint(0,actor_data.shape[2]-1)\n",
    "            if (num == 0 and j == 0): \n",
    "                x_val = actor_data[:,:,rand]\n",
    "                y_val = np.array([actor])\n",
    "            else: \n",
    "                x_val = np.dstack((x_val, actor_data[:,:,rand]))\n",
    "                y_val = np.append(y_val,[actor])\n",
    "            #remove data from \"source\" to avoid overlap between sets\n",
    "            actor_data = np.delete(actor_data, rand, axis = 2)\n",
    "            j+=1\n",
    "#        print(x_val.shape, y_val.shape, actor_data.shape[2])\n",
    "        \n",
    "        \n",
    "        \n",
    "        \n",
    "        #pick 10 images for test set\n",
    "        while (k < test_size):\n",
    "            rand = randint(0,actor_data.shape[2]-1)\n",
    "            if (num == 0 and k ==0): \n",
    "                x_test = actor_data[:,:,rand]\n",
    "                y_test = np.array([actor])\n",
    "            else:\n",
    "                x_test = np.dstack((x_test, actor_data[:,:,rand]))\n",
    "                y_test = np.append(y_test,[actor])\n",
    "\n",
    "            #remove data from \"source\" to avoid overlap between sets\n",
    "            actor_data = np.delete(actor_data, rand, axis = 2)\n",
    "            k+=1\n",
    "#        print(x_test.shape, y_test.shape, actor_data.shape[2])\n",
    "        \n",
    "        \n",
    "        \n",
    "    return x_train, y_train, x_val, y_val, x_test, y_test"
   ]
  },
  {
   "cell_type": "code",
   "execution_count": null,
   "metadata": {
    "collapsed": true
   },
   "outputs": [],
   "source": [
    "'''\n",
    "PURPOSE: View shape of train, val and test sets create to verify they were constructed correctly\n",
    "'''\n",
    "\n",
    "print(x_train.shape , y_train.shape)\n",
    "print(x_val.shape , y_val.shape)\n",
    "print(x_test.shape , y_test.shape)\n",
    "\n"
   ]
  },
  {
   "cell_type": "code",
   "execution_count": 4,
   "metadata": {},
   "outputs": [
    {
     "name": "stdout",
     "output_type": "stream",
     "text": [
      "((3,), (3,), (2, 3))\n"
     ]
    }
   ],
   "source": [
    "'''\n",
    "PURPOSE: x.shape as demosntrated in class\n",
    "assuming each image is supposed to have the dimensions (N,), where N refers to 32x32 = 1024 pixels\n",
    "x data is supposed to be shaped (N, M), where M is the number of examples\n",
    "'''\n",
    "y_ex1 = np.array([1,2,3])\n",
    "y_ex2 = np.array([4,5,6])\n",
    "data = np.vstack((y_ex1, y_ex2))\n",
    "print(y_ex1.shape, y_ex2.shape, data.shape)\n"
   ]
  },
  {
   "cell_type": "code",
   "execution_count": null,
   "metadata": {
    "collapsed": true
   },
   "outputs": [],
   "source": [
    "'''\n",
    "PURPOSE: view all images in a set\n",
    "have yet to figure out how to create a slideshow\n",
    "'''\n",
    "for i in range(x_val.shape[-1]):\n",
    "    plt.imshow(x_val[...,i], cmap=\"gray\")"
   ]
  },
  {
   "cell_type": "code",
   "execution_count": null,
   "metadata": {
    "collapsed": true
   },
   "outputs": [],
   "source": [
    "'''\n",
    "PURPOSE: how to interpret ndarray representing the image\n",
    "'''\n",
    "#seems like the each row of an image i seen as a column of a block in the ndarray of all images. \n",
    "#So, row 1 of image 5 would be in column 5 of the 1st block (blocks indexed as 0th, 1st, 2nd..)\n",
    "\n",
    "x_test.view()\n",
    "\n",
    "plt.imshow(x_test[:,:,1],cmap=\"gray\")\n",
    "x_test[:,:,1].view()\n",
    "\n",
    "plt.imshow(x_test[:,29:31,0],cmap=\"gray\")\n",
    "x_test[:,29:32,0].view()\n",
    "\n",
    "plt.imshow(x_test[5:10,:,0],cmap=\"gray\")\n",
    "x_test[1:3,:,0].view()\n",
    "\n",
    "#also, np.flatten just appends rows below to the first row. So picture a motion where each row \n",
    "#the first row is being swished to the right and then up to join the continually extending first row\n",
    "\n",
    "flattened_example = x_test[:,:,0].flatten()\n",
    "flattened_example[31]\n",
    "\n",
    "# m * 32 index is the first element of the mth row of that image"
   ]
  },
  {
   "cell_type": "code",
   "execution_count": null,
   "metadata": {
    "collapsed": true
   },
   "outputs": [],
   "source": [
    "'''\n",
    "PURPOSE: how to unflatten\n",
    "'''\n",
    "#one image\n",
    "#show x_test_flattened\n",
    "unflattened_x_test_0 = x_test_flattened[...,0].reshape(x_test.shape[1],32)\n",
    "#reshape x_test_flattened\n",
    "unflattened_x_test_0.shape\n",
    "plt.imshow(unflattened_x_test_0,cmap=\"gray\")\n",
    "#show unflattened_x_test_flattened\n",
    "\n",
    "#entire dataset\n",
    "unflattened_x_test = x_test_flattened.reshape(32,32,x_test_flattened.shape[1])\n",
    "plt.imshow(unflattened_x_test[...,1], cmap=\"gray\")"
   ]
  },
  {
   "cell_type": "code",
   "execution_count": null,
   "metadata": {
    "collapsed": true
   },
   "outputs": [],
   "source": [
    "'''\n",
    "PURPOSE: Adding bias\n",
    "'''\n",
    "#notice 0th entry of every image is 1. x_0 was introced as a feature variable to add bias\n",
    "with_bias = np.vstack((np.ones((1, x_test_flattened.shape[1])),x_test_flattened))\n",
    "print(with_bias[32,0]) #might have to change flatten type"
   ]
  },
  {
   "cell_type": "code",
   "execution_count": null,
   "metadata": {
    "collapsed": true
   },
   "outputs": [],
   "source": [
    "'''\n",
    "Dot product: \n",
    "'''\n",
    "\n",
    "pixel_inten_mean = np.mean(x_test)\n",
    "pixel_inten_std  = np.std(x_test)\n",
    "theta = np.random.normal( 0, 10, x_test.shape[0]+1 )\n",
    "\n",
    "x_test_w_bias = np.vstack((np.ones((1, x_test.shape[1])), x_test ))\n",
    "\n",
    "dot_prod = np.dot(theta.T,x_test_w_bias)\n",
    "\n",
    "print(x_test_w_bias.shape, theta.shape, dot_prod.shape)"
   ]
  },
  {
   "cell_type": "code",
   "execution_count": null,
   "metadata": {
    "collapsed": true
   },
   "outputs": [],
   "source": [
    "'''\n",
    "Debugging part 3 with MG. Conclusion: thetas need to be initialized with std = 0\n",
    "'''\n",
    "np.dot(theta_complete.T,x_train_w_bias).view()\n",
    "\n",
    "y_pred = pred_y(x_val_w_bias,theta_complete)\n",
    "\n",
    "y_pred\n",
    "\n",
    "np.mean(y_pred==y_val)\n",
    "\n",
    "performance(y_pred,y_val)\n",
    "\n",
    "x_train_w_bias.view()\n",
    "\n",
    "h = 0.01\n",
    "\n",
    "cost1 = cost(x_train_w_bias, y_train, theta0)\n",
    "\n",
    "theta_disturbed = np.copy(theta0)\n",
    "theta_disturbed[300] = theta0[300]+h\n",
    "\n",
    "cost2 = cost(x_train_w_bias, y_train, theta_disturbed)\n",
    "\n",
    "dcost = (cost2 - cost1) / h\n",
    "\n",
    "grad = dcost_dtheta(x_train_w_bias,y_train,theta0)\n",
    "\n",
    "print(grad[300],dcost)"
   ]
  }
 ],
 "metadata": {
  "kernelspec": {
   "display_name": "CSC411_py2",
   "language": "python",
   "name": "csc411_py2"
  },
  "language_info": {
   "codemirror_mode": {
    "name": "ipython",
    "version": 2
   },
   "file_extension": ".py",
   "mimetype": "text/x-python",
   "name": "python",
   "nbconvert_exporter": "python",
   "pygments_lexer": "ipython2",
   "version": "2.7.14"
  }
 },
 "nbformat": 4,
 "nbformat_minor": 2
}
