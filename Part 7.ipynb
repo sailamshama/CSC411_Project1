{
 "cells": [
  {
   "cell_type": "code",
   "execution_count": 1,
   "metadata": {},
   "outputs": [
    {
     "data": {
      "text/plain": [
       "'\\nPURPOSE: build classifier to predict actor using one-hot-encoding\\n         obtain performance on train and test sets\\n\\nRemember: X = np.random.rand(n, m)\\nY = np.random.rand(k, m)\\ntheta = np.random.rand(n, k)\\n\\n'"
      ]
     },
     "execution_count": 1,
     "metadata": {},
     "output_type": "execute_result"
    }
   ],
   "source": [
    "'''\n",
    "PURPOSE: build classifier to predict actor using one-hot-encoding\n",
    "         obtain performance on train and test sets\n",
    "\n",
    "Remember: X = np.random.rand(n, m)\n",
    "Y = np.random.rand(k, m)\n",
    "theta = np.random.rand(n, k)\n",
    "\n",
    "'''"
   ]
  },
  {
   "cell_type": "code",
   "execution_count": 2,
   "metadata": {
    "collapsed": true
   },
   "outputs": [],
   "source": [
    "import numpy as np\n",
    "import random"
   ]
  },
  {
   "cell_type": "code",
   "execution_count": 3,
   "metadata": {
    "collapsed": true
   },
   "outputs": [],
   "source": [
    "random.seed(5)"
   ]
  },
  {
   "cell_type": "code",
   "execution_count": 4,
   "metadata": {
    "collapsed": true
   },
   "outputs": [],
   "source": [
    "x_train = np.load(\"x_train.npy\")\n",
    "y_train = np.load(\"y_train.npy\")\n",
    "x_val = np.load(\"x_val.npy\")\n",
    "y_val = np.load(\"y_val.npy\")\n",
    "x_test = np.load(\"x_test.npy\")\n",
    "y_test = np.load(\"y_test.npy\")"
   ]
  },
  {
   "cell_type": "code",
   "execution_count": 126,
   "metadata": {},
   "outputs": [],
   "source": [
    "def name_to_onehot(y,k):\n",
    "    names = np.unique(y)\n",
    "#    print(names)\n",
    "    y_relabeled = np.zeros((k,y.shape[0]))\n",
    "    for i in range(len(names)):\n",
    "        name = names[i]\n",
    "        for j in np.where(y == name)[0]:\n",
    "#            print(i,j,y_relabeled.shape)\n",
    "            y_relabeled[i,j] = 1\n",
    "    return y_relabeled\n",
    "\n",
    "def flatten_set(x):\n",
    "    #returned ndarray should have shape (N, M), where N = # pixels and M = # images\n",
    "    for i in range(x.shape[-1]):\n",
    "        flattened_image = x[...,i].flatten() \n",
    "        if i == 0:\n",
    "            x_flattened = flattened_image\n",
    "        else:\n",
    "            x_flattened = np.vstack((x_flattened, flattened_image))\n",
    "            \n",
    "    return x_flattened.T\n",
    "\n",
    "def cost_vec(x,y,theta):\n",
    "    #can we optimize this further by vectorization?\n",
    "    return np.sum ( ( y - np.dot(theta.T,x) ) ** 2) \n",
    "\n",
    "def dcost_dtheta_vec(x, y, theta):\n",
    "    return 2* np.dot( x, (np.dot( theta.T, x ) - y).T )\n",
    "\n",
    "def grad_desc_vec(cost, dcost_dtheta, x, y, init_theta, alpha,max_iter):\n",
    "    EPS = 1e-4   #EPS = 10**(-5)\n",
    "    prev_t = init_theta-10*EPS\n",
    "    t = init_theta.copy()\n",
    "\n",
    "    itr = 1\n",
    "    while np.linalg.norm(t - prev_t) >  EPS and itr < max_iter:\n",
    "        prev_t = t.copy()\n",
    "        t -= alpha*dcost_dtheta(x, y, t)\n",
    "\n",
    "        if itr % 2000 == 0:\n",
    "            print \"Iter\", itr\n",
    "            print (\"cost(x) = %.2f\" %  cost(x, y, t)) \n",
    "\n",
    "    #         print \"t = (%.2f, %.2f, %.2f), cost(x) = %.2f\" % (t[0], t[1], t[2], cost(x, y, t)) \n",
    "    #         print \"Gradient: \", dcost_dtheta(x, y, t), \"\\n\"\n",
    "    #         y_pred = pred_y(x,t)\n",
    "    #         print(\"Performance: \",performance(y_pred,y_val))\n",
    "\n",
    "        itr+=1\n",
    "    return t\n",
    "\n",
    "def pred_onehot(x,theta):\n",
    "    #what is the output of x, theta?\n",
    "    out_mat = np.dot(theta.T, x)\n",
    "    for i in range(out_mat.shape[-1]):\n",
    "        out = out_mat[:,i]    \n",
    "        out[np.where(out != max(out))] =0\n",
    "        out[np.where(out == max(out))] = 1 \n",
    "    return out_mat.astype(int)\n",
    "\n",
    "def performance_onehot(y_pred,y_actual):\n",
    "    #asuuming y is of the size k x m\n",
    "    sum = 0.0\n",
    "    size = y_actual.shape[-1]\n",
    "    for i in range(size):\n",
    "        if np.array_equal(y_pred[:,i], y_actual[:,i]):\n",
    "            sum +=1\n",
    "    return sum/size * 100"
   ]
  },
  {
   "cell_type": "code",
   "execution_count": 6,
   "metadata": {
    "collapsed": true
   },
   "outputs": [],
   "source": [
    "#get data ready\n",
    "num_actors = 6\n",
    "y_train = name_to_onehot(y_train, num_actors)\n",
    "y_val = name_to_onehot(y_val, num_actors)\n",
    "y_test = name_to_onehot(y_test, num_actors)\n",
    "\n",
    "#prepare for gradient descent\n",
    "x_train = flatten_set(x_train) / 255.0\n",
    "x_val = flatten_set(x_val) / 255.0\n",
    "x_test = flatten_set(x_test) / 255.0\n",
    "\n",
    "x_train_w_bias = np.vstack( (np.ones((1, x_train.shape[1])), x_train))\n",
    "x_val_w_bias = np.vstack( (np.ones((1, x_val.shape[1])), x_val))\n"
   ]
  },
  {
   "cell_type": "code",
   "execution_count": 130,
   "metadata": {},
   "outputs": [
    {
     "name": "stdout",
     "output_type": "stream",
     "text": [
      "Iter 2000\n",
      "cost(x) = 200.41\n",
      "Iter 4000\n",
      "cost(x) = 163.89\n"
     ]
    }
   ],
   "source": [
    "# theta0 = np.random.normal(0,0.01, (x_train.shape[0]+1, y_train.shape[0]))\n",
    "# theta_complete = grad_desc_vec(cost_vec, dcost_dtheta_vec, x_train_w_bias, y_train, theta0, 0.000001,200000)\n",
    "#took a lont time to run. Got cost down to 15.63?\n",
    "#performance: (train, val) (100.0, 65.0)\n",
    "\n",
    "# theta0 = np.random.normal(0,0.005, (x_train.shape[0]+1, y_train.shape[0]))\n",
    "# theta_complete = grad_desc_vec(cost_vec, dcost_dtheta_vec, x_train_w_bias, y_train, theta0, 0.0000001,200000)\n",
    "# Iter 52000\n",
    "# cost(x) = 148.69\n",
    "\n",
    "theta0 = np.random.normal(0,0.01, (x_train.shape[0]+1, y_train.shape[0]))\n",
    "theta_complete = grad_desc_vec(cost_vec, dcost_dtheta_vec, x_train_w_bias, y_train, theta0, 0.000001,20000)\n",
    "#cost: 88.24, performance: (97.61904761904762, 70.0)\n",
    "\n",
    "#theta0 = np.random.normal(0,0.01, (x_train.shape[0]+1, y_train.shape[0]))\n",
    "#theta_complete = grad_desc_vec(cost_vec, dcost_dtheta_vec, x_train_w_bias, y_train, theta0, 0.000001,10000)\n",
    "#cost: 128, performance: (94.52380952380952, 68.33333333333333)\n",
    "\n",
    "# theta0 = np.random.normal(0,0.01, (x_train.shape[0]+1, y_train.shape[0]))\n",
    "# theta_complete = grad_desc_vec(cost_vec, dcost_dtheta_vec, x_train_w_bias, y_train, theta0, 0.000001,1000)\n",
    "# cost: ?(76.19047619047619, 63.33333333333333)\n",
    "\n",
    "\n",
    "#at this point, gonnna change epsilon instead to 1e-4 from 1e-5\n",
    "# theta0 = np.random.normal(0,0.01, (x_train.shape[0]+1, y_train.shape[0]))\n",
    "# theta_complete = grad_desc_vec(cost_vec, dcost_dtheta_vec, x_train_w_bias, y_train, theta0, 0.000001,30000)\n",
    "# cost(x) = 164.99,(89.52380952380953, 70.0)\n",
    "\n",
    "# theta0 = np.random.normal(0,0.01, (x_train.shape[0]+1, y_train.shape[0]))\n",
    "# theta_complete = grad_desc_vec(cost_vec, dcost_dtheta_vec, x_train_w_bias, y_train, theta0, 0.00001,30000)\n",
    "#overflow\n",
    "\n",
    "\n"
   ]
  },
  {
   "cell_type": "code",
   "execution_count": 131,
   "metadata": {},
   "outputs": [
    {
     "name": "stdout",
     "output_type": "stream",
     "text": [
      "(89.52380952380953, 71.66666666666667)\n"
     ]
    }
   ],
   "source": [
    "y_pred_train = pred_onehot(x=x_train_w_bias, theta=theta_complete)\n",
    "\n",
    "y_pred_val = pred_onehot(x=x_val_w_bias, theta=theta_complete)\n",
    "\n",
    "performance_train = performance_onehot(y_pred_train,y_train)\n",
    "performance_val = performance_onehot(y_pred_val,y_val)\n",
    "\n",
    "print(performance_train,performance_val)"
   ]
  },
  {
   "cell_type": "code",
   "execution_count": 132,
   "metadata": {},
   "outputs": [],
   "source": [
    " np.save(\"thetas_part7.npy\",theta_complete)"
   ]
  }
 ],
 "metadata": {
  "kernelspec": {
   "display_name": "CSC411_py2",
   "language": "python",
   "name": "csc411_py2"
  },
  "language_info": {
   "codemirror_mode": {
    "name": "ipython",
    "version": 2
   },
   "file_extension": ".py",
   "mimetype": "text/x-python",
   "name": "python",
   "nbconvert_exporter": "python",
   "pygments_lexer": "ipython2",
   "version": "2.7.14"
  }
 },
 "nbformat": 4,
 "nbformat_minor": 2
}
