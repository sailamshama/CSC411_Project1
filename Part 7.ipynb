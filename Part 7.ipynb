{
 "cells": [
  {
   "cell_type": "code",
   "execution_count": 1,
   "metadata": {},
   "outputs": [
    {
     "data": {
      "text/plain": [
       "'\\nPURPOSE: build classifier to predict actor using one-hot-encoding\\n         obtain performance on train and test sets\\n\\nRemember: X = np.random.rand(n, m)\\nY = np.random.rand(k, m)\\ntheta = np.random.rand(n, k)\\n\\n'"
      ]
     },
     "execution_count": 1,
     "metadata": {},
     "output_type": "execute_result"
    }
   ],
   "source": [
    "'''\n",
    "PURPOSE: build classifier to predict actor using one-hot-encoding\n",
    "         obtain performance on train and test sets\n",
    "\n",
    "Remember: X = np.random.rand(n, m)\n",
    "Y = np.random.rand(k, m)\n",
    "theta = np.random.rand(n, k)\n",
    "\n",
    "'''"
   ]
  },
  {
   "cell_type": "code",
   "execution_count": 2,
   "metadata": {
    "collapsed": true
   },
   "outputs": [],
   "source": [
    "import numpy as np\n",
    "import random"
   ]
  },
  {
   "cell_type": "code",
   "execution_count": 3,
   "metadata": {
    "collapsed": true
   },
   "outputs": [],
   "source": [
    "random.seed(5)"
   ]
  },
  {
   "cell_type": "code",
   "execution_count": 4,
   "metadata": {
    "collapsed": true
   },
   "outputs": [],
   "source": [
    "x_train = np.load(\"x_train.npy\")\n",
    "y_train = np.load(\"y_train.npy\")\n",
    "x_val = np.load(\"x_val.npy\")\n",
    "y_val = np.load(\"y_val.npy\")\n",
    "x_test = np.load(\"x_test.npy\")\n",
    "y_test = np.load(\"y_test.npy\")"
   ]
  },
  {
   "cell_type": "code",
   "execution_count": 60,
   "metadata": {
    "collapsed": true
   },
   "outputs": [],
   "source": [
    "def name_to_onehot(y,k):\n",
    "    names = np.unique(y)\n",
    "#    print(names)\n",
    "    y_relabeled = np.zeros((k,y.shape[0]))\n",
    "    for i in range(len(names)):\n",
    "        name = names[i]\n",
    "        for j in np.where(y == name)[0]:\n",
    "#            print(i,j,y_relabeled.shape)\n",
    "            y_relabeled[i,j] = 1\n",
    "    return y_relabeled\n",
    "\n",
    "def flatten_set(x):\n",
    "    #returned ndarray should have shape (N, M), where N = # pixels and M = # images\n",
    "    for i in range(x.shape[-1]):\n",
    "        flattened_image = x[...,i].flatten() \n",
    "        if i == 0:\n",
    "            x_flattened = flattened_image\n",
    "        else:\n",
    "            x_flattened = np.vstack((x_flattened, flattened_image))\n",
    "            \n",
    "    return x_flattened.T\n",
    "\n",
    "def cost_vec(x,y,theta):\n",
    "    #can we optimize this further by vectorization?\n",
    "    return np.sum ( ( y - np.dot(theta.T,x) ) ** 2) \n",
    "\n",
    "def dcost_dtheta_vec(x, y, theta):\n",
    "    return 2* np.dot( x, (np.dot( theta.T, x ) - y).T )\n",
    "\n",
    "def grad_desc_vec(cost, dcost_dtheta, x, y, init_theta, alpha,max_iter):\n",
    "    EPS = 1e-5   #EPS = 10**(-5)\n",
    "    prev_t = init_theta-10*EPS\n",
    "    t = init_theta.copy()\n",
    "\n",
    "    itr = 1\n",
    "    while np.linalg.norm(t - prev_t) >  EPS and itr < max_iter:\n",
    "        prev_t = t.copy()\n",
    "        t -= alpha*dcost_dtheta(x, y, t)\n",
    "\n",
    "        if itr % 2000 == 0:\n",
    "            print \"Iter\", itr\n",
    "            print (\"cost(x) = %.2f\" %  cost(x, y, t)) \n",
    "\n",
    "    #         print \"t = (%.2f, %.2f, %.2f), cost(x) = %.2f\" % (t[0], t[1], t[2], cost(x, y, t)) \n",
    "    #         print \"Gradient: \", dcost_dtheta(x, y, t), \"\\n\"\n",
    "    #         y_pred = pred_y(x,t)\n",
    "    #         print(\"Performance: \",performance(y_pred,y_val))\n",
    "\n",
    "        itr+=1\n",
    "    return t\n",
    "\n",
    "def pred(x,theta):\n",
    "    #what is the output of x, theta?\n",
    "    out_mat = np.dot(theta.T, x)\n",
    "    for i in range(out_mat.shape[-1]):\n",
    "        out = out_mat[:,i]    \n",
    "        out[np.where(out != max(out))] =0\n",
    "        out[np.where(out == max(out))] = 1 \n",
    "    return out_mat\n",
    "\n",
    "def performance(y_pred,y_actual):\n",
    "    return"
   ]
  },
  {
   "cell_type": "code",
   "execution_count": 6,
   "metadata": {
    "collapsed": true
   },
   "outputs": [],
   "source": [
    "#get data ready\n",
    "num_actors = 6\n",
    "y_train = name_to_onehot(y_train, num_actors)\n",
    "y_val = name_to_onehot(y_val, num_actors)\n",
    "y_test = name_to_onehot(y_test, num_actors)\n",
    "\n",
    "#prepare for gradient descent\n",
    "x_train = flatten_set(x_train) / 255.0\n",
    "x_val = flatten_set(x_val) / 255.0\n",
    "x_test = flatten_set(x_test) / 255.0\n",
    "\n",
    "x_train_w_bias = np.vstack( (np.ones((1, x_train.shape[1])), x_train))\n",
    "x_val_w_bias = np.vstack( (np.ones((1, x_val.shape[1])), x_val))\n"
   ]
  },
  {
   "cell_type": "code",
   "execution_count": 8,
   "metadata": {},
   "outputs": [
    {
     "name": "stdout",
     "output_type": "stream",
     "text": [
      "Iter 2000\n",
      "cost(x) = 201.62\n",
      "Iter 4000\n",
      "cost(x) = 164.26\n",
      "Iter 6000\n",
      "cost(x) = 142.46\n",
      "Iter 8000\n",
      "cost(x) = 127.40\n",
      "Iter 10000\n",
      "cost(x) = 116.11\n",
      "Iter 12000\n",
      "cost(x) = 107.18\n",
      "Iter 14000\n",
      "cost(x) = 99.86\n",
      "Iter 16000\n",
      "cost(x) = 93.68\n",
      "Iter 18000\n",
      "cost(x) = 88.37\n",
      "Iter 20000\n",
      "cost(x) = 83.73\n",
      "Iter 22000\n",
      "cost(x) = 79.62\n",
      "Iter 24000\n",
      "cost(x) = 75.94\n",
      "Iter 26000\n",
      "cost(x) = 72.62\n",
      "Iter 28000\n",
      "cost(x) = 69.60\n",
      "Iter 30000\n",
      "cost(x) = 66.84\n",
      "Iter 32000\n",
      "cost(x) = 64.29\n",
      "Iter 34000\n",
      "cost(x) = 61.94\n",
      "Iter 36000\n",
      "cost(x) = 59.76\n",
      "Iter 38000\n",
      "cost(x) = 57.73\n",
      "Iter 40000\n",
      "cost(x) = 55.83\n",
      "Iter 42000\n",
      "cost(x) = 54.05\n",
      "Iter 44000\n",
      "cost(x) = 52.38\n",
      "Iter 46000\n",
      "cost(x) = 50.81\n",
      "Iter 48000\n",
      "cost(x) = 49.32\n",
      "Iter 50000\n",
      "cost(x) = 47.92\n",
      "Iter 52000\n",
      "cost(x) = 46.59\n",
      "Iter 54000\n",
      "cost(x) = 45.32\n",
      "Iter 56000\n",
      "cost(x) = 44.12\n",
      "Iter 58000\n",
      "cost(x) = 42.98\n",
      "Iter 60000\n",
      "cost(x) = 41.89\n",
      "Iter 62000\n",
      "cost(x) = 40.85\n",
      "Iter 64000\n",
      "cost(x) = 39.85\n",
      "Iter 66000\n",
      "cost(x) = 38.90\n",
      "Iter 68000\n",
      "cost(x) = 37.99\n",
      "Iter 70000\n",
      "cost(x) = 37.11\n",
      "Iter 72000\n",
      "cost(x) = 36.28\n",
      "Iter 74000\n",
      "cost(x) = 35.47\n",
      "Iter 76000\n",
      "cost(x) = 34.70\n",
      "Iter 78000\n",
      "cost(x) = 33.95\n",
      "Iter 80000\n",
      "cost(x) = 33.23\n",
      "Iter 82000\n",
      "cost(x) = 32.54\n",
      "Iter 84000\n",
      "cost(x) = 31.88\n",
      "Iter 86000\n",
      "cost(x) = 31.23\n",
      "Iter 88000\n",
      "cost(x) = 30.61\n",
      "Iter 90000\n",
      "cost(x) = 30.01\n",
      "Iter 92000\n",
      "cost(x) = 29.43\n",
      "Iter 94000\n",
      "cost(x) = 28.87\n",
      "Iter 96000\n",
      "cost(x) = 28.33\n",
      "Iter 98000\n",
      "cost(x) = 27.80\n",
      "Iter 100000\n",
      "cost(x) = 27.29\n",
      "Iter 102000\n",
      "cost(x) = 26.80\n",
      "Iter 104000\n",
      "cost(x) = 26.32\n",
      "Iter 106000\n",
      "cost(x) = 25.86\n",
      "Iter 108000\n",
      "cost(x) = 25.41\n",
      "Iter 110000\n",
      "cost(x) = 24.97\n",
      "Iter 112000\n",
      "cost(x) = 24.54\n",
      "Iter 114000\n",
      "cost(x) = 24.13\n",
      "Iter 116000\n",
      "cost(x) = 23.73\n",
      "Iter 118000\n",
      "cost(x) = 23.34\n",
      "Iter 120000\n",
      "cost(x) = 22.96\n",
      "Iter 122000\n",
      "cost(x) = 22.59\n",
      "Iter 124000\n",
      "cost(x) = 22.23\n",
      "Iter 126000\n",
      "cost(x) = 21.88\n",
      "Iter 128000\n",
      "cost(x) = 21.53\n",
      "Iter 130000\n",
      "cost(x) = 21.20\n",
      "Iter 132000\n",
      "cost(x) = 20.88\n",
      "Iter 134000\n",
      "cost(x) = 20.56\n",
      "Iter 136000\n",
      "cost(x) = 20.25\n",
      "Iter 138000\n",
      "cost(x) = 19.95\n",
      "Iter 140000\n",
      "cost(x) = 19.65\n",
      "Iter 142000\n",
      "cost(x) = 19.37\n",
      "Iter 144000\n",
      "cost(x) = 19.09\n",
      "Iter 146000\n",
      "cost(x) = 18.81\n",
      "Iter 148000\n",
      "cost(x) = 18.54\n",
      "Iter 150000\n",
      "cost(x) = 18.28\n",
      "Iter 152000\n",
      "cost(x) = 18.03\n",
      "Iter 154000\n",
      "cost(x) = 17.78\n",
      "Iter 156000\n",
      "cost(x) = 17.53\n",
      "Iter 158000\n",
      "cost(x) = 17.29\n",
      "Iter 160000\n",
      "cost(x) = 17.06\n",
      "Iter 162000\n",
      "cost(x) = 16.83\n",
      "Iter 164000\n",
      "cost(x) = 16.60\n",
      "Iter 166000\n",
      "cost(x) = 16.38\n",
      "Iter 168000\n",
      "cost(x) = 16.17\n",
      "Iter 170000\n",
      "cost(x) = 15.96\n",
      "Iter 172000\n",
      "cost(x) = 15.75\n",
      "Iter 174000\n",
      "cost(x) = 15.55\n"
     ]
    }
   ],
   "source": [
    "# theta0 = np.random.normal(0,0.01, (x_train.shape[0]+1, y_train.shape[0]))\n",
    "# theta_complete = grad_desc_vec(cost_vec, dcost_dtheta_vec, x_train_w_bias, y_train, theta0, 0.000001,200000)\n",
    "#took a lont time to run. Got cost down to 15.63?\n",
    "\n",
    "# theta0 = np.random.normal(0,0.005, (x_train.shape[0]+1, y_train.shape[0]))\n",
    "# theta_complete = grad_desc_vec(cost_vec, dcost_dtheta_vec, x_train_w_bias, y_train, theta0, 0.0000001,200000)\n",
    "# Iter 52000\n",
    "# cost(x) = 148.69\n",
    "\n",
    "theta0 = np.random.normal(0,0.01, (x_train.shape[0]+1, y_train.shape[0]))\n",
    "theta_complete = grad_desc_vec(cost_vec, dcost_dtheta_vec, x_train_w_bias, y_train, theta0, 0.000001,200000)\n",
    "\n"
   ]
  },
  {
   "cell_type": "code",
   "execution_count": 200,
   "metadata": {
    "collapsed": true
   },
   "outputs": [],
   "source": [
    "#theta_complete = grad_desc_vec(cost_vec, dcost_dtheta_vec, x_train_w_bias, y_train, theta0, 0.000001,200000)"
   ]
  },
  {
   "cell_type": "code",
   "execution_count": null,
   "metadata": {},
   "outputs": [],
   "source": [
    "y_pred_train = pred_y(x=x_train_w_bias, theta=theta_complete)\n",
    "\n",
    "y_pred_val = pred_y(x=x_val_w_bias, theta=theta_complete)\n",
    "\n",
    "performance_train = performance(y_pred_train,y_train)\n",
    "performance_val = performance(y_pred_val,y_val)\n",
    "\n",
    "print(performance_train,performance_val, performance_val_others)"
   ]
  },
  {
   "cell_type": "code",
   "execution_count": 41,
   "metadata": {},
   "outputs": [
    {
     "data": {
      "text/plain": [
       "(1025, 420)"
      ]
     },
     "execution_count": 41,
     "metadata": {},
     "output_type": "execute_result"
    }
   ],
   "source": [
    "x_train_w_bias.shape"
   ]
  },
  {
   "cell_type": "code",
   "execution_count": 61,
   "metadata": {},
   "outputs": [],
   "source": [
    "pred_test = pred(x_train_w_bias,theta_complete)"
   ]
  },
  {
   "cell_type": "code",
   "execution_count": 62,
   "metadata": {},
   "outputs": [
    {
     "data": {
      "text/plain": [
       "array([ 0.,  0.,  0.,  0.,  0.,  1.])"
      ]
     },
     "execution_count": 62,
     "metadata": {},
     "output_type": "execute_result"
    }
   ],
   "source": [
    "pred_test[:,400]\n",
    "#so seems like prediction output is correct"
   ]
  },
  {
   "cell_type": "code",
   "execution_count": 38,
   "metadata": {},
   "outputs": [],
   "source": [
    "out = np.dot(theta_complete.T, x_train_w_bias)"
   ]
  },
  {
   "cell_type": "code",
   "execution_count": 58,
   "metadata": {},
   "outputs": [
    {
     "data": {
      "text/plain": [
       "array([-0.05424986,  0.00729022,  0.09664561, -0.07554751,  0.12742167,\n",
       "        0.92367331])"
      ]
     },
     "execution_count": 58,
     "metadata": {},
     "output_type": "execute_result"
    }
   ],
   "source": [
    "#I guess we need to do gradient descent\n",
    "out = np.dot(theta_complete.T, x_train_w_bias)[:,400] \n",
    "out.view()"
   ]
  },
  {
   "cell_type": "code",
   "execution_count": 27,
   "metadata": {},
   "outputs": [
    {
     "data": {
      "text/plain": [
       "array([-0.01119515,  0.13327365,  0.9375623 ,  0.00630195, -0.04249818,\n",
       "       -0.01072119])"
      ]
     },
     "execution_count": 27,
     "metadata": {},
     "output_type": "execute_result"
    }
   ],
   "source": [
    "out.view()"
   ]
  },
  {
   "cell_type": "code",
   "execution_count": 28,
   "metadata": {},
   "outputs": [],
   "source": [
    "out[np.where(out != max(out))] =0\n",
    "out[np.where(out == max(out))] = 1"
   ]
  },
  {
   "cell_type": "code",
   "execution_count": 29,
   "metadata": {},
   "outputs": [
    {
     "data": {
      "text/plain": [
       "array([ 0.,  0.,  1.,  0.,  0.,  0.])"
      ]
     },
     "execution_count": 29,
     "metadata": {},
     "output_type": "execute_result"
    }
   ],
   "source": [
    "out"
   ]
  },
  {
   "cell_type": "code",
   "execution_count": 63,
   "metadata": {},
   "outputs": [],
   "source": [
    " np.save(\"thetas_part7.npy\",theta_complete)"
   ]
  },
  {
   "cell_type": "code",
   "execution_count": null,
   "metadata": {
    "collapsed": true
   },
   "outputs": [],
   "source": []
  }
 ],
 "metadata": {
  "kernelspec": {
   "display_name": "CSC411_py2",
   "language": "python",
   "name": "csc411_py2"
  },
  "language_info": {
   "codemirror_mode": {
    "name": "ipython",
    "version": 2
   },
   "file_extension": ".py",
   "mimetype": "text/x-python",
   "name": "python",
   "nbconvert_exporter": "python",
   "pygments_lexer": "ipython2",
   "version": "2.7.14"
  }
 },
 "nbformat": 4,
 "nbformat_minor": 2
}
