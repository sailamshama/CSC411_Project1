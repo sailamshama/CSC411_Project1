{
 "cells": [
  {
   "cell_type": "code",
   "execution_count": null,
   "metadata": {
    "collapsed": true
   },
   "outputs": [],
   "source": [
    "np.dot(theta_complete.T,x_train_w_bias).view()\n",
    "\n",
    "y_pred = pred_y(x_val_w_bias,theta_complete)\n",
    "\n",
    "y_pred\n",
    "\n",
    "np.mean(y_pred==y_val)\n",
    "\n",
    "performance(y_pred,y_val)\n",
    "\n",
    "x_train_w_bias.view()\n",
    "\n",
    "h = 0.01\n",
    "\n",
    "cost1 = cost(x_train_w_bias, y_train, theta0)\n",
    "\n",
    "theta_disturbed = np.copy(theta0)\n",
    "theta_disturbed[300] = theta0[300]+h\n",
    "\n",
    "cost2 = cost(x_train_w_bias, y_train, theta_disturbed)\n",
    "\n",
    "dcost = (cost2 - cost1) / h\n",
    "\n",
    "grad = dcost_dtheta(x_train_w_bias,y_train,theta0)\n",
    "\n",
    "print(grad[300],dcost)"
   ]
  }
 ],
 "metadata": {
  "kernelspec": {
   "display_name": "CSC411_py2",
   "language": "python",
   "name": "csc411_py2"
  },
  "language_info": {
   "codemirror_mode": {
    "name": "ipython",
    "version": 2
   },
   "file_extension": ".py",
   "mimetype": "text/x-python",
   "name": "python",
   "nbconvert_exporter": "python",
   "pygments_lexer": "ipython2",
   "version": "2.7.14"
  }
 },
 "nbformat": 4,
 "nbformat_minor": 2
}
