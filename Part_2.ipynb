{
 "cells": [
  {
   "cell_type": "code",
   "execution_count": 1,
   "metadata": {
    "collapsed": true
   },
   "outputs": [],
   "source": [
    "'''\n",
    "PURPOSE: \n",
    "split data set to obtain train, validation and test sets with non-overlapping images\n",
    "I use this file to create data sets for parts 2, 3, 4 and 5\n",
    "'''\n",
    "import os\n",
    "import numpy as np\n",
    "from random import randint, seed\n",
    "#from scipy.misc import imread\n",
    "import matplotlib.pyplot as plt"
   ]
  },
  {
   "cell_type": "code",
   "execution_count": 4,
   "metadata": {
    "collapsed": true
   },
   "outputs": [],
   "source": [
    "#load data\n",
    "x = np.load(\"x.npy\")\n",
    "y = np.load(\"y.npy\")"
   ]
  },
  {
   "cell_type": "code",
   "execution_count": 5,
   "metadata": {
    "collapsed": true
   },
   "outputs": [],
   "source": [
    "def split_dataset(x,y,train_size,val_size,test_size): \n",
    "    act = np.unique(y)\n",
    "\n",
    "    for num in range(len(act)):\n",
    "    \n",
    "        actor = act[num]\n",
    "        start = np.where(y == actor)[0][0]\n",
    "        stop = np.where(y == actor)[0][-1]\n",
    "        actor_data = x[:,:,start:stop]\n",
    "        \n",
    "        i=0\n",
    "        j=0\n",
    "        k=0\n",
    "        \n",
    "        #pick 70 images for train set\n",
    "        while (i < train_size): \n",
    "            seed(5000)\n",
    "            rand = randint(0,actor_data.shape[2]-1)\n",
    "            if (num == 0 and i == 0):\n",
    "                x_train = actor_data[:,:,rand]\n",
    "                y_train = np.array([actor])\n",
    "            \n",
    "            else:\n",
    "                x_train = np.dstack((x_train, actor_data[:,:,rand]))\n",
    "                y_train = np.append(y_train,[actor])   \n",
    "            #remove data from \"source\" to avoid overlap between sets\n",
    "            actor_data = np.delete(actor_data, rand, axis = 2)\n",
    "            i+=1\n",
    "            \n",
    "        \n",
    "        #pick 10 images for val set\n",
    "        while (j < val_size):\n",
    "            seed(5000)\n",
    "            rand = randint(0,actor_data.shape[2]-1)\n",
    "            if (num == 0 and j == 0): \n",
    "                x_val = actor_data[:,:,rand]\n",
    "                y_val = np.array([actor])\n",
    "            else: \n",
    "                x_val = np.dstack((x_val, actor_data[:,:,rand]))\n",
    "                y_val = np.append(y_val,[actor])\n",
    "            #remove data from \"source\" to avoid overlap between sets\n",
    "            actor_data = np.delete(actor_data, rand, axis = 2)\n",
    "            j+=1        \n",
    "         \n",
    "        \n",
    "        #pick 10 images for test set\n",
    "        while (k < test_size):\n",
    "            seed(5000)\n",
    "            rand = randint(0,actor_data.shape[2]-1)\n",
    "            if (num == 0 and k ==0): \n",
    "                x_test = actor_data[:,:,rand]\n",
    "                y_test = np.array([actor])\n",
    "            else:\n",
    "                x_test = np.dstack((x_test, actor_data[:,:,rand]))\n",
    "                y_test = np.append(y_test,[actor])\n",
    "\n",
    "            #remove data from \"source\" to avoid overlap between sets\n",
    "            actor_data = np.delete(actor_data, rand, axis = 2)\n",
    "            k+=1        \n",
    "        \n",
    "        \n",
    "    return x_train, y_train, x_val, y_val, x_test, y_test"
   ]
  },
  {
   "cell_type": "code",
   "execution_count": 6,
   "metadata": {
    "collapsed": true
   },
   "outputs": [],
   "source": [
    "#modified previous definition to create training, validaiton and test sets for specific actors\n",
    "def split_dataset_for_actors(x,y,train_size,val_size,test_size,acts): \n",
    "    \n",
    "    acts = np.unique(acts)\n",
    "    for num in range(len(acts)):\n",
    "    \n",
    "        actor = acts[num]\n",
    "        start = np.where(y == actor)[0][0]\n",
    "        stop = np.where(y == actor)[0][-1]\n",
    "        actor_data = x[:,:,start:stop]\n",
    "        \n",
    "#        print(actor)\n",
    "#        print(actor_data.shape)\n",
    "        \n",
    "        i=0\n",
    "        j=0\n",
    "        k=0\n",
    "        \n",
    "        #pick 70 images for train set\n",
    "        while (i < train_size): \n",
    "            rand = randint(0,actor_data.shape[2]-1)\n",
    "            if (num == 0 and i == 0):\n",
    "                x_train = actor_data[:,:,rand]\n",
    "                y_train = np.array([actor])\n",
    "            \n",
    "            else:\n",
    "                x_train = np.dstack((x_train, actor_data[:,:,rand]))\n",
    "                y_train = np.append(y_train,[actor])   \n",
    "            #remove data from \"source\" to avoid overlap between sets\n",
    "            actor_data = np.delete(actor_data, rand, axis = 2)\n",
    "            i+=1\n",
    "            \n",
    "#        print(x_train.shape, y_train.shape, actor_data.shape[2])\n",
    "        \n",
    "        \n",
    "        \n",
    "        \n",
    "        #pick 10 images for val set\n",
    "        while (j < val_size):\n",
    "            rand = randint(0,actor_data.shape[2]-1)\n",
    "            if (num == 0 and j == 0): \n",
    "                x_val = actor_data[:,:,rand]\n",
    "                y_val = np.array([actor])\n",
    "            else: \n",
    "                x_val = np.dstack((x_val, actor_data[:,:,rand]))\n",
    "                y_val = np.append(y_val,[actor])\n",
    "            #remove data from \"source\" to avoid overlap between sets\n",
    "            actor_data = np.delete(actor_data, rand, axis = 2)\n",
    "            j+=1\n",
    "#        print(x_val.shape, y_val.shape, actor_data.shape[2])\n",
    "        \n",
    "        \n",
    "        \n",
    "        \n",
    "        #pick 10 images for test set\n",
    "        while (k < test_size):\n",
    "            rand = randint(0,actor_data.shape[2]-1)\n",
    "            if (num == 0 and k ==0): \n",
    "                x_test = actor_data[:,:,rand]\n",
    "                y_test = np.array([actor])\n",
    "            else:\n",
    "                x_test = np.dstack((x_test, actor_data[:,:,rand]))\n",
    "                y_test = np.append(y_test,[actor])\n",
    "\n",
    "            #remove data from \"source\" to avoid overlap between sets\n",
    "            actor_data = np.delete(actor_data, rand, axis = 2)\n",
    "            k+=1\n",
    "#        print(x_test.shape, y_test.shape, actor_data.shape[2])\n",
    "        \n",
    "        \n",
    "        \n",
    "    return x_train, y_train, x_val, y_val, x_test, y_test"
   ]
  },
  {
   "cell_type": "code",
   "execution_count": null,
   "metadata": {
    "collapsed": true
   },
   "outputs": [],
   "source": [
    "'''\n",
    "For Part 2\n",
    "'''\n",
    "\n",
    "x_train, y_train, x_val, y_val, x_test, y_test = split_dataset(x,y,70,10,10)\n",
    "\n",
    "np.save(\"x_train.npy\",x_train)\n",
    "np.save(\"y_train.npy\",y_train)\n",
    "np.save(\"x_val.npy\", x_val)\n",
    "np.save(\"y_val.npy\", y_val)\n",
    "np.save(\"x_test.npy\", x_test)\n",
    "np.save(\"y_test.npy\", y_test)\n",
    "#but must pretend to now know y_val and y_test"
   ]
  },
  {
   "cell_type": "code",
   "execution_count": 10,
   "metadata": {
    "collapsed": true
   },
   "outputs": [],
   "source": [
    "'''\n",
    "For Part 3\n",
    "train, val and test sets containing only images of Alec Baldwin and Steve Carell\n",
    "'''\n",
    "x_train0, y_train0, x_val0, y_val0, x_test0, y_test0 = split_dataset_for_actors(x,y,70,10,10,[\"Steve Carell\", \"Alec Baldwin\"])\n",
    "\n",
    "\n",
    "\n",
    "print(x_train0.shape , y_train0.shape)\n",
    "print(x_val0.shape , y_val0.shape)\n",
    "print(x_test0.shape , y_test0.shape)\n",
    "\n",
    "np.save(\"x_train0.npy\",x_train0)\n",
    "np.save(\"y_train0.npy\",y_train0)\n",
    "np.save(\"x_val0.npy\", x_val0)\n",
    "np.save(\"y_val0.npy\", y_val0)\n",
    "np.save(\"x_test0.npy\", x_test0)\n",
    "np.save(\"y_test0.npy\", y_test0)"
   ]
  },
  {
   "cell_type": "code",
   "execution_count": 17,
   "metadata": {
    "collapsed": true
   },
   "outputs": [],
   "source": [
    "'''\n",
    "For Part 4\n",
    "training set of only 2 images per actor. Only actors Steve Carell and Alec Baldwin\n",
    "'''\n",
    "x_train1, y_train1, x1, y1, x2, y2 = split_dataset_for_actors(x,y,2,10,10,[\"Steve Carell\", \"Alec Baldwin\"])\n",
    "\n",
    "print(x_train1.shape, y_train1.shape)\n",
    "np.save(\"x_train1.npy\",x_train1)\n",
    "np.save(\"y_train1.npy\",y_train1)\n",
    "#no need to save smaller validation and test sets"
   ]
  },
  {
   "cell_type": "code",
   "execution_count": 5,
   "metadata": {
    "collapsed": true
   },
   "outputs": [],
   "source": [
    "'''\n",
    "For Part 5\n",
    "for classifying male and female\n",
    "'''\n",
    "\n",
    "#training set of other actors\n",
    "x_other_actors = np.load(\"x_other_actors.npy\")\n",
    "y_other_actors = np.load(\"y_other_actors.npy\")\n",
    "x_train_other_actors, y_train_other_actors, x_val_other_actors, y_val_other_actors, x_test_other_actors, y_test_other_actors = split_dataset(x_other_actors, y_other_actors, 70, 10, 10) "
   ]
  },
  {
   "cell_type": "code",
   "execution_count": 13,
   "metadata": {
    "collapsed": true
   },
   "outputs": [],
   "source": [
    "np.save(\"x_train_other_actors.npy\",x_train_other_actors)\n",
    "np.save(\"y_train_other_actors.npy\",y_train_other_actors)\n",
    "np.save(\"x_val_other_actors.npy\", x_val_other_actors)\n",
    "np.save(\"y_val_other_actors.npy\", y_val_other_actors)\n",
    "np.save(\"x_test_other_actors.npy\", x_test_other_actors)\n",
    "np.save(\"y_test_other_actors.npy\", y_test_other_actors)"
   ]
  },
  {
   "cell_type": "code",
   "execution_count": 11,
   "metadata": {
    "collapsed": true
   },
   "outputs": [],
   "source": [
    "#Of train size 2 imgs/per actor\n",
    "x_train2, y_train2, x_val2, y_val2, x_test2, y_test2 = split_dataset(x,y,2,10,10)\n",
    "\n",
    "np.save(\"x_train2.npy\",x_train2)\n",
    "np.save(\"y_train2.npy\",y_train2)\n",
    "np.save(\"x_val2.npy\", x_val2)\n",
    "np.save(\"y_val2.npy\", y_val2)\n",
    "np.save(\"x_test2.npy\", x_test2) #don't really need\n",
    "np.save(\"y_test2.npy\", y_test2) #don't really need\n",
    "#but must pretend to now know y_val and y_test\n"
   ]
  },
  {
   "cell_type": "code",
   "execution_count": 8,
   "metadata": {
    "collapsed": true
   },
   "outputs": [],
   "source": [
    "#size 20\n",
    "x_train3, y_train3, x_val3, y_val3, x_test3, y_test3 = split_dataset(x,y,20,10,10)\n",
    "\n",
    "np.save(\"x_train3.npy\",x_train3)\n",
    "np.save(\"y_train3.npy\",y_train3)\n",
    "np.save(\"x_val3.npy\", x_val3)\n",
    "np.save(\"y_val3.npy\", y_val3)\n",
    "np.save(\"x_test3.npy\", x_test3) #don't really need\n",
    "np.save(\"y_test3.npy\", y_test3) #don't really need\n",
    "#but must pretend to now know y_val and y_test"
   ]
  },
  {
   "cell_type": "code",
   "execution_count": 13,
   "metadata": {
    "collapsed": true
   },
   "outputs": [],
   "source": [
    "#size 50\n",
    "x_train4, y_train4, x_val4, y_val4, x_test4, y_test4 = split_dataset(x,y,50,10,10)\n",
    "\n",
    "np.save(\"x_train4.npy\",x_train4)\n",
    "np.save(\"y_train4.npy\",y_train4)\n",
    "np.save(\"x_val4.npy\", x_val4)\n",
    "np.save(\"y_val4.npy\", y_val4)\n",
    "np.save(\"x_test4.npy\", x_test4) #don't really need\n",
    "np.save(\"y_test4.npy\", y_test4) #don't really need\n",
    "#but must pretend to now know y_val and y_test"
   ]
  },
  {
   "cell_type": "code",
   "execution_count": 22,
   "metadata": {
    "collapsed": true
   },
   "outputs": [],
   "source": [
    "#size 99\n",
    "x_train5, y_train5, x_val5, y_val5, x_test5, y_test5 = split_dataset(x,y,99,10,10)\n",
    "\n",
    "np.save(\"x_train5.npy\",x_train5)\n",
    "np.save(\"y_train5.npy\",y_train5)\n",
    "np.save(\"x_val5.npy\", x_val5)\n",
    "np.save(\"y_val5.npy\", y_val5)\n",
    "np.save(\"x_test5.npy\", x_test5) #don't really need\n",
    "np.save(\"y_test5.npy\", y_test5) #don't really need\n",
    "#but must pretend to now know y_val and y_test"
   ]
  }
 ],
 "metadata": {
  "kernelspec": {
   "display_name": "CSC411_py2",
   "language": "python",
   "name": "csc411_py2"
  },
  "language_info": {
   "codemirror_mode": {
    "name": "ipython",
    "version": 2
   },
   "file_extension": ".py",
   "mimetype": "text/x-python",
   "name": "python",
   "nbconvert_exporter": "python",
   "pygments_lexer": "ipython2",
   "version": "2.7.14"
  }
 },
 "nbformat": 4,
 "nbformat_minor": 2
}
