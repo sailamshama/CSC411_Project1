{
 "cells": [
  {
   "cell_type": "code",
   "execution_count": 24,
   "metadata": {},
   "outputs": [],
   "source": [
    "from pylab import *\n",
    "import numpy as np\n",
    "import matplotlib.pyplot as plt\n",
    "import matplotlib.cbook as cbook\n",
    "import random\n",
    "import time\n",
    "from scipy.misc import imread\n",
    "from scipy.misc import imresize\n",
    "import matplotlib.image as mpimg\n",
    "import os\n",
    "from scipy.ndimage import filters\n",
    "import pdb\n",
    "import urllib"
   ]
  },
  {
   "cell_type": "code",
   "execution_count": 25,
   "metadata": {
    "collapsed": true
   },
   "outputs": [],
   "source": [
    "act = list(set([a.split(\"\\n\")[0] for a in open(\"subset_actors.txt\").readlines()]))"
   ]
  },
  {
   "cell_type": "code",
   "execution_count": 26,
   "metadata": {
    "collapsed": true
   },
   "outputs": [],
   "source": [
    "def timeout(func, args=(), kwargs={}, timeout_duration=1, default=None):\n",
    "    '''From:\n",
    "    http://code.activestate.com/recipes/473878-timeout-function-using-threading/'''\n",
    "    import threading\n",
    "    class InterruptableThread(threading.Thread):\n",
    "        def __init__(self):\n",
    "            threading.Thread.__init__(self)\n",
    "            self.result = None\n",
    "\n",
    "        def run(self):\n",
    "            try:\n",
    "                self.result = func(*args, **kwargs)\n",
    "            except:\n",
    "                self.result = default\n",
    "\n",
    "    it = InterruptableThread()\n",
    "    it.start()\n",
    "    it.join(timeout_duration)\n",
    "    if it.isAlive():\n",
    "        return False\n",
    "    else:\n",
    "        return it.result"
   ]
  },
  {
   "cell_type": "code",
   "execution_count": 27,
   "metadata": {},
   "outputs": [],
   "source": [
    "testfile = urllib.URLopener() "
   ]
  },
  {
   "cell_type": "code",
   "execution_count": null,
   "metadata": {
    "collapsed": true
   },
   "outputs": [],
   "source": [
    "#read line of image data\n",
    "facescrub_actresses = pd.read_table(\"facescrub_actresses.txt\",sep=\"\\t\",header=None)\n",
    "facescrub_actresses.columns = [\"Name\", \"Col1\", \"Col2\", \"URL\", \"Coordinates\", \"Col5\"]\n",
    "#Delete columns with seemingly gibberish data\n",
    "facescrub_actresses_trimmed = facescrub_actresses.drop(facescrub_actresses.columns[[1,2,5]], axis = 1)"
   ]
  },
  {
   "cell_type": "code",
   "execution_count": 28,
   "metadata": {
    "collapsed": true
   },
   "outputs": [],
   "source": [
    "#create uncropped folder\n",
    "current_directory = os.getcwd()\n",
    "final_directory = os.path.join(current_directory, r'uncropped')\n",
    "if not os.path.exists(final_directory):\n",
    "   os.makedirs(final_directory)"
   ]
  },
  {
   "cell_type": "code",
   "execution_count": null,
   "metadata": {
    "collapsed": true
   },
   "outputs": [],
   "source": [
    "#get a particular image\n",
    "#index image name to allow multiple images of same actor/actress\n",
    "image_name = 'lorraine_bracco_{}.jpg'.format(1)\n",
    "image_name_with_path = os.path.join(final_directory,image_name)\n",
    "urllib.urlretrieve('http://img.spokeo.com/public/900-600/lorraine_bracco_2003_06_18.jpg',image_name_with_path)"
   ]
  },
  {
   "cell_type": "code",
   "execution_count": 29,
   "metadata": {},
   "outputs": [
    {
     "ename": "IOError",
     "evalue": "[Errno 2] No such file or directory: 'faces_subset.txt'",
     "output_type": "error",
     "traceback": [
      "\u001b[0;31m---------------------------------------------------------------------------\u001b[0m",
      "\u001b[0;31mIOError\u001b[0m                                   Traceback (most recent call last)",
      "\u001b[0;32m<ipython-input-29-d71ea7750cd0>\u001b[0m in \u001b[0;36m<module>\u001b[0;34m()\u001b[0m\n\u001b[1;32m      5\u001b[0m     \u001b[0mname\u001b[0m \u001b[0;34m=\u001b[0m \u001b[0ma\u001b[0m\u001b[0;34m.\u001b[0m\u001b[0msplit\u001b[0m\u001b[0;34m(\u001b[0m\u001b[0;34m)\u001b[0m\u001b[0;34m[\u001b[0m\u001b[0;36m1\u001b[0m\u001b[0;34m]\u001b[0m\u001b[0;34m.\u001b[0m\u001b[0mlower\u001b[0m\u001b[0;34m(\u001b[0m\u001b[0;34m)\u001b[0m\u001b[0;34m\u001b[0m\u001b[0m\n\u001b[1;32m      6\u001b[0m     \u001b[0mi\u001b[0m \u001b[0;34m=\u001b[0m \u001b[0;36m0\u001b[0m\u001b[0;34m\u001b[0m\u001b[0m\n\u001b[0;32m----> 7\u001b[0;31m     \u001b[0;32mfor\u001b[0m \u001b[0mline\u001b[0m \u001b[0;32min\u001b[0m \u001b[0mopen\u001b[0m\u001b[0;34m(\u001b[0m\u001b[0;34m\"faces_subset.txt\"\u001b[0m\u001b[0;34m)\u001b[0m\u001b[0;34m:\u001b[0m\u001b[0;34m\u001b[0m\u001b[0m\n\u001b[0m\u001b[1;32m      8\u001b[0m         \u001b[0;32mif\u001b[0m \u001b[0ma\u001b[0m \u001b[0;32min\u001b[0m \u001b[0mline\u001b[0m\u001b[0;34m:\u001b[0m\u001b[0;34m\u001b[0m\u001b[0m\n\u001b[1;32m      9\u001b[0m             \u001b[0mfilename\u001b[0m \u001b[0;34m=\u001b[0m \u001b[0mname\u001b[0m\u001b[0;34m+\u001b[0m\u001b[0mstr\u001b[0m\u001b[0;34m(\u001b[0m\u001b[0mi\u001b[0m\u001b[0;34m)\u001b[0m\u001b[0;34m+\u001b[0m\u001b[0;34m'.'\u001b[0m\u001b[0;34m+\u001b[0m\u001b[0mline\u001b[0m\u001b[0;34m.\u001b[0m\u001b[0msplit\u001b[0m\u001b[0;34m(\u001b[0m\u001b[0;34m)\u001b[0m\u001b[0;34m[\u001b[0m\u001b[0;36m4\u001b[0m\u001b[0;34m]\u001b[0m\u001b[0;34m.\u001b[0m\u001b[0msplit\u001b[0m\u001b[0;34m(\u001b[0m\u001b[0;34m'.'\u001b[0m\u001b[0;34m)\u001b[0m\u001b[0;34m[\u001b[0m\u001b[0;34m-\u001b[0m\u001b[0;36m1\u001b[0m\u001b[0;34m]\u001b[0m\u001b[0;34m\u001b[0m\u001b[0m\n",
      "\u001b[0;31mIOError\u001b[0m: [Errno 2] No such file or directory: 'faces_subset.txt'"
     ]
    }
   ],
   "source": [
    "#Note: you need to create the uncropped folder first in order \n",
    "#for this to work\n",
    "\n",
    "for a in act:\n",
    "    name = a.split()[1].lower()\n",
    "    i = 0\n",
    "    for line in open(\"faces_subset.txt\"):\n",
    "        if a in line:\n",
    "            filename = name+str(i)+'.'+line.split()[4].split('.')[-1]\n",
    "            #A version without timeout (uncomment in case you need to \n",
    "            #unsupress exceptions, which timeout() does)\n",
    "            #testfile.retrieve(line.split()[4], \"uncropped/\"+filename)\n",
    "            #timeout is used to stop downloading images which take too long to download\n",
    "            timeout(testfile.retrieve, (line.split()[4], \"uncropped/\"+filename), {}, 30)\n",
    "            if not os.path.isfile(\"uncropped/\"+filename):\n",
    "                continue   \n",
    "            print filename\n",
    "            i += 1"
   ]
  }
 ],
 "metadata": {
  "kernelspec": {
   "display_name": "CSC411_py2",
   "language": "python",
   "name": "csc411_py2"
  }
 },
 "nbformat": 4,
 "nbformat_minor": 2
}
