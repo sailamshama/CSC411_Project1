{
 "cells": [
  {
   "cell_type": "code",
   "execution_count": null,
   "metadata": {
    "collapsed": true
   },
   "outputs": [],
   "source": [
    "'''\n",
    "PURPOSE: To build a classifier using Linear Regression to distinguish images of two actors.\n",
    "'''"
   ]
  },
  {
   "cell_type": "code",
   "execution_count": 64,
   "metadata": {},
   "outputs": [],
   "source": [
    "import numpy as np \n",
    "import matplotlib.pyplot as plt"
   ]
  },
  {
   "cell_type": "code",
   "execution_count": 117,
   "metadata": {
    "collapsed": true
   },
   "outputs": [],
   "source": [
    "#load data sets containing only 'Alec Baldwin' and 'Steve Carel'\n",
    "x_train = np.load(\"x_train0.npy\") \n",
    "y_train = np.load(\"y_train0.npy\")\n",
    "\n",
    "x_val = np.load(\"x_val0.npy\")\n",
    "y_val = np.load(\"y_val0.npy\")\n",
    "\n",
    "x_test = np.load(\"x_test0.npy\")\n",
    "y_test = np.load(\"y_test0.npy\")"
   ]
  },
  {
   "cell_type": "code",
   "execution_count": 136,
   "metadata": {},
   "outputs": [
    {
     "data": {
      "text/plain": [
       "array([[[ 64,  50,  65, ..., 170,  30,  48],\n",
       "        [ 94,  83,  86, ..., 179,  39,  19],\n",
       "        [124, 137,  83, ..., 181,  60,  19],\n",
       "        ..., \n",
       "        [ 32,  18,  63, ...,  60,  29,  45],\n",
       "        [ 27,   8, 212, ..., 102,  14,  91],\n",
       "        [ 96,   5, 239, ...,  69,  32,  78]],\n",
       "\n",
       "       [[ 92,  84,  82, ..., 171,  24,  48],\n",
       "        [110, 112,  96, ..., 173,  30,   3],\n",
       "        [123, 198,  99, ..., 173,  62,  22],\n",
       "        ..., \n",
       "        [ 30,  79,  51, ...,  73,  26,  36],\n",
       "        [ 76,   5, 101, ...,  74,  21,  91],\n",
       "        [ 67,  29, 241, ...,  47,  32,  78]],\n",
       "\n",
       "       [[ 77, 109, 102, ..., 164,  25,  41],\n",
       "        [108, 128, 117, ..., 171,  34,  39],\n",
       "        [136, 160, 115, ..., 175,  76,  26],\n",
       "        ..., \n",
       "        [ 44,   3,  43, ...,  51,  24,  49],\n",
       "        [ 74,  27, 108, ...,  75,  27,  92],\n",
       "        [ 92,  11, 230, ...,  64,  21,  77]],\n",
       "\n",
       "       ..., \n",
       "       [[162,  95, 230, ...,  95,  11,  29],\n",
       "        [117,  89, 229, ...,  99,  12,  26],\n",
       "        [106,  85, 230, ..., 102,  20,  26],\n",
       "        ..., \n",
       "        [180,   7,  16, ..., 118,  14, 119],\n",
       "        [180,   6,  32, ...,  72,  27, 130],\n",
       "        [178,   5, 247, ...,  82,  32,  72]],\n",
       "\n",
       "       [[152, 112, 229, ...,  88,  13,  69],\n",
       "        [117, 117, 228, ...,  91,  15,  57],\n",
       "        [113,  84, 226, ...,  95,   9,  53],\n",
       "        ..., \n",
       "        [181,   6,  14, ...,  97,  11, 122],\n",
       "        [179,   6,  13, ...,  86,  22, 124],\n",
       "        [180,   6,  19, ...,  77,  31, 139]],\n",
       "\n",
       "       [[104, 106, 228, ...,  82,  15,  79],\n",
       "        [154, 103, 227, ...,  88,  14,  78],\n",
       "        [121,  95, 227, ...,  90,  13,  77],\n",
       "        ..., \n",
       "        [179,   9,  38, ..., 121,  17, 123],\n",
       "        [181,   6,  14, ...,  86,  22, 134],\n",
       "        [184,   7,  18, ...,  98,  24, 141]]], dtype=uint8)"
      ]
     },
     "execution_count": 136,
     "metadata": {},
     "output_type": "execute_result"
    }
   ],
   "source": [
    "x_test.view()"
   ]
  },
  {
   "cell_type": "code",
   "execution_count": 105,
   "metadata": {},
   "outputs": [],
   "source": [
    "def replace_labels(y,labels):\n",
    "    y_relabeled = np.copy(y)\n",
    "    for label in labels:\n",
    "        for index in np.where(y == label[0]):\n",
    "            np.put(y_relabeled, index, label[1])\n",
    "    return y_relabeled.astype(int)\n",
    "\n",
    "#change output labels to 0 and 1\n"
   ]
  },
  {
   "cell_type": "code",
   "execution_count": 121,
   "metadata": {
    "collapsed": true
   },
   "outputs": [],
   "source": [
    "def flatten_set(x):\n",
    "    #returned ndarray should have shape (N, M), where N = # pixels and M = # images\n",
    "    for i in range(x.shape[-1]):\n",
    "        flattened_image = x[...,i].flatten() \n",
    "        if i == 0:\n",
    "            x_flattened = flattened_image\n",
    "        else:\n",
    "            x_flattened = np.vstack((x_flattened, flattened_image))\n",
    "            \n",
    "    return x_flattened.T"
   ]
  },
  {
   "cell_type": "code",
   "execution_count": null,
   "metadata": {
    "collapsed": true
   },
   "outputs": [],
   "source": [
    "def h(x,theta):\n",
    "    x = np.vstack(np.ones((1, x.shape[1]),x) #for bias #migth need to chnage vstakc ot hstack\n",
    "    return np.dot(x,theta)"
   ]
  },
  {
   "cell_type": "code",
   "execution_count": null,
   "metadata": {
    "collapsed": true
   },
   "outputs": [],
   "source": [
    "def cost(x,y,theta):\n",
    "    #include bias\n",
    "    #stack a bunch of 1's\n",
    "    #quadratic cost function\n",
    "    \n",
    "    return\n",
    "    "
   ]
  },
  {
   "cell_type": "code",
   "execution_count": null,
   "metadata": {
    "collapsed": true
   },
   "outputs": [],
   "source": [
    "def dcost(x,y,theta):\n",
    "    \n",
    "    return"
   ]
  },
  {
   "cell_type": "code",
   "execution_count": null,
   "metadata": {
    "collapsed": true
   },
   "outputs": [],
   "source": [
    "def gradient_descent(cost, dcost, x, y, init_theta, alpha):\n",
    "    \n",
    "    \n",
    "    \n",
    "    return T"
   ]
  },
  {
   "cell_type": "code",
   "execution_count": 118,
   "metadata": {},
   "outputs": [],
   "source": [
    "y_train = replace_labels(y_train, [(\"Alec Baldwin\",1), (\"Steve Carell\",0)])\n",
    "y_val = replace_labels(y_val, [(\"Alec Baldwin\",1), (\"Steve Carell\",0)])\n",
    "y_test = replace_labels(y_test, [(\"Alec Baldwin\",1), (\"Steve Carell\",0)])"
   ]
  },
  {
   "cell_type": "code",
   "execution_count": 122,
   "metadata": {
    "collapsed": true
   },
   "outputs": [],
   "source": [
    "x_train_flattened = flatten_set(x_train)\n",
    "x_val_flattened = flatten_set(x_val)\n",
    "x_test_flattened = flatten_set(x_test)"
   ]
  },
  {
   "cell_type": "code",
   "execution_count": 123,
   "metadata": {},
   "outputs": [
    {
     "name": "stdout",
     "output_type": "stream",
     "text": [
      "((1024, 20), (20,))\n"
     ]
    }
   ],
   "source": [
    "print(x_test_flattened.shape, y_test.shape)\n",
    "#seems wrong"
   ]
  },
  {
   "cell_type": "code",
   "execution_count": 148,
   "metadata": {},
   "outputs": [
    {
     "name": "stdout",
     "output_type": "stream",
     "text": [
      "184.0\n"
     ]
    }
   ],
   "source": [
    "with_bias = np.vstack((np.ones((1, x_test_flattened.shape[1])),x_test_flattened))\n",
    "print(with_bias[1024,0]) #might have to change flatten type"
   ]
  },
  {
   "cell_type": "code",
   "execution_count": 154,
   "metadata": {},
   "outputs": [
    {
     "data": {
      "text/plain": [
       "array([[ 64,  94, 124, ...,  32,  27,  96],\n",
       "       [ 92, 110, 123, ...,  30,  76,  67],\n",
       "       [ 77, 108, 136, ...,  44,  74,  92],\n",
       "       ..., \n",
       "       [162, 117, 106, ..., 180, 180, 178],\n",
       "       [152, 117, 113, ..., 181, 179, 180],\n",
       "       [104, 154, 121, ..., 179, 181, 184]], dtype=uint8)"
      ]
     },
     "execution_count": 154,
     "metadata": {},
     "output_type": "execute_result"
    },
    {
     "data": {
      "image/png": "[encoded data removed]",
      "text/plain": [
       "<matplotlib.figure.Figure at 0x1102999d0>"
      ]
     },
     "metadata": {},
     "output_type": "display_data"
    }
   ],
   "source": [
    "#view one image\n",
    "plt.imshow(x_test[:,:,0],cmap=\"gray\")\n",
    "x_test[:,:,0].view()"
   ]
  },
  {
   "cell_type": "code",
   "execution_count": 164,
   "metadata": {},
   "outputs": [
    {
     "data": {
      "text/plain": [
       "array([[ 32,  27,  96],\n",
       "       [ 30,  76,  67],\n",
       "       [ 44,  74,  92],\n",
       "       [ 46,  99,  82],\n",
       "       [100, 117,  91],\n",
       "       [ 74, 105,  99],\n",
       "       [106, 123, 118],\n",
       "       [119, 128, 141],\n",
       "       [117, 129, 152],\n",
       "       [121, 143, 159],\n",
       "       [123, 151, 170],\n",
       "       [127, 166, 177],\n",
       "       [142, 177, 181],\n",
       "       [150, 182, 177],\n",
       "       [161, 182, 185],\n",
       "       [176, 182, 181],\n",
       "       [183, 183, 184],\n",
       "       [182, 182, 183],\n",
       "       [183, 183, 185],\n",
       "       [182, 180, 182],\n",
       "       [183, 183, 180],\n",
       "       [183, 181, 177],\n",
       "       [183, 182, 178],\n",
       "       [183, 183, 183],\n",
       "       [183, 180, 185],\n",
       "       [181, 179, 184],\n",
       "       [180, 177, 176],\n",
       "       [183, 181, 178],\n",
       "       [180, 180, 178],\n",
       "       [180, 180, 178],\n",
       "       [181, 179, 180],\n",
       "       [179, 181, 184]], dtype=uint8)"
      ]
     },
     "execution_count": 164,
     "metadata": {},
     "output_type": "execute_result"
    },
    {
     "data": {
      "image/png": "[encoded data removed]",
      "text/plain": [
       "<matplotlib.figure.Figure at 0x109e4eb10>"
      ]
     },
     "metadata": {},
     "output_type": "display_data"
    }
   ],
   "source": [
    "#check first and last pixel of first image, see if you're interpreting x_test.view() correctly\n",
    "plt.imshow(x_test[:,29:31,0],cmap=\"gray\")\n",
    "x_test[:,29:32,0].view()\n",
    "\n",
    "#seems like columns of the view of a single image\n",
    "#and w.r.t to the entire dataset, looks like.."
   ]
  },
  {
   "cell_type": "code",
   "execution_count": 160,
   "metadata": {},
   "outputs": [
    {
     "data": {
      "text/plain": [
       "array([[ 92, 110, 123, 149, 157, 160, 165, 168, 174, 180, 174, 182, 185,\n",
       "        190, 187, 186, 192, 199, 192, 200, 204, 202, 178, 155, 137, 123,\n",
       "        106,  87,  42,  30,  76,  67],\n",
       "       [ 77, 108, 136, 153, 161, 155, 162, 167, 169, 170, 172, 180, 198,\n",
       "        206, 201, 194, 194, 193, 191, 193, 194, 192, 188, 162, 140, 124,\n",
       "        125,  95,  40,  44,  74,  92]], dtype=uint8)"
      ]
     },
     "execution_count": 160,
     "metadata": {},
     "output_type": "execute_result"
    },
    {
     "data": {
      "image/png": "[encoded data removed]",
      "text/plain": [
       "<matplotlib.figure.Figure at 0x11059d990>"
      ]
     },
     "metadata": {},
     "output_type": "display_data"
    }
   ],
   "source": [
    "plt.imshow(x_test[5:10,:,0],cmap=\"gray\")\n",
    "x_test[1:3,:,0].view()"
   ]
  },
  {
   "cell_type": "code",
   "execution_count": 165,
   "metadata": {
    "collapsed": true
   },
   "outputs": [],
   "source": [
    "#flatten image using np.ndarray.flatten\n",
    "flattened_example = x_test[:,:,0].flatten()"
   ]
  },
  {
   "cell_type": "code",
   "execution_count": 168,
   "metadata": {},
   "outputs": [
    {
     "data": {
      "text/plain": [
       "96"
      ]
     },
     "execution_count": 168,
     "metadata": {},
     "output_type": "execute_result"
    }
   ],
   "source": [
    "flattened_example[31]"
   ]
  },
  {
   "cell_type": "code",
   "execution_count": null,
   "metadata": {
    "collapsed": true
   },
   "outputs": [],
   "source": [
    "#x0\n",
    "#x\n",
    "#y\n",
    "#T\n",
    "#a"
   ]
  },
  {
   "cell_type": "code",
   "execution_count": null,
   "metadata": {
    "collapsed": true
   },
   "outputs": [],
   "source": [
    "#hypothesis function\n",
    "#weighted sum of pixel intensities + constant"
   ]
  },
  {
   "cell_type": "code",
   "execution_count": null,
   "metadata": {
    "collapsed": true
   },
   "outputs": [],
   "source": [
    "#initialize weights"
   ]
  }
 ],
 "metadata": {
  "kernelspec": {
   "display_name": "CSC411_py2",
   "language": "python",
   "name": "csc411_py2"
  },
  "language_info": {
   "codemirror_mode": {
    "name": "ipython",
    "version": 2
   },
   "file_extension": ".py",
   "mimetype": "text/x-python",
   "name": "python",
   "nbconvert_exporter": "python",
   "pygments_lexer": "ipython2",
   "version": "2.7.14"
  }
 },
 "nbformat": 4,
 "nbformat_minor": 2
}
