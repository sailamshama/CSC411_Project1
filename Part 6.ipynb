{
 "cells": [
  {
   "cell_type": "code",
   "execution_count": null,
   "metadata": {
    "collapsed": true
   },
   "outputs": [],
   "source": [
    "'''\n",
    "PURPOSE: \n",
    "- define cost and its gradient for one-hot encoded output and 2D theta\n",
    "- Dimensions:\n",
    "    X = n x m, where n is the number of pixels and m, the number of training examples\n",
    "    Y = k x m, where k is the number of different outputs\n",
    "    Theta = n x k   \n",
    "'''\n"
   ]
  },
  {
   "cell_type": "code",
   "execution_count": 56,
   "metadata": {
    "collapsed": true
   },
   "outputs": [],
   "source": [
    "import numpy as np\n",
    "import random"
   ]
  },
  {
   "cell_type": "code",
   "execution_count": 21,
   "metadata": {
    "collapsed": true
   },
   "outputs": [],
   "source": [
    "def cost_vec(x,y,theta):\n",
    "    return np.sum ( y - np.dot(theta.T,x) ** 2) "
   ]
  },
  {
   "cell_type": "code",
   "execution_count": 74,
   "metadata": {
    "collapsed": true
   },
   "outputs": [],
   "source": [
    "def dcost_dtheta_vec(x, y, theta):\n",
    "    return 2* np.matmul( x, (np.dot( theta.T, x ) - y).T )"
   ]
  },
  {
   "cell_type": "code",
   "execution_count": 34,
   "metadata": {
    "collapsed": true
   },
   "outputs": [],
   "source": [
    "def grad_desc_vec():\n",
    "    EPS = 1e-5   #EPS = 10**(-5)\n",
    "    prev_t = init_theta-10*EPS\n",
    "    t = init_theta.copy()\n",
    "\n",
    "    while np.linalg.norm(t - prev_t) >  EPS and itr < max_iter:\n",
    "        prev_t = t.copy()\n",
    "        t -= alpha*dcost_dtheta(x, y, t)\n",
    "    \n",
    "    return t"
   ]
  },
  {
   "cell_type": "code",
   "execution_count": 58,
   "metadata": {
    "collapsed": true
   },
   "outputs": [],
   "source": [
    "random.seed(2837499)"
   ]
  },
  {
   "cell_type": "code",
   "execution_count": 53,
   "metadata": {},
   "outputs": [],
   "source": [
    "m = 30\n",
    "n = 1025\n",
    "k = 6\n",
    "X = np.random.rand(n, m)\n",
    "Y = np.random.rand(k, m)\n",
    "theta = np.random.rand(n, k)\n",
    "\n",
    "#print(X.shape, Y.shape, theta.shape)\n"
   ]
  },
  {
   "cell_type": "code",
   "execution_count": 61,
   "metadata": {},
   "outputs": [
    {
     "data": {
      "text/plain": [
       "(1025, 6)"
      ]
     },
     "execution_count": 61,
     "metadata": {},
     "output_type": "execute_result"
    }
   ],
   "source": [
    "theta.shape"
   ]
  },
  {
   "cell_type": "code",
   "execution_count": 60,
   "metadata": {},
   "outputs": [
    {
     "data": {
      "text/plain": [
       "(1025, 6)"
      ]
     },
     "execution_count": 60,
     "metadata": {},
     "output_type": "execute_result"
    }
   ],
   "source": [
    "dcost_dtheta_vec(X,Y,theta).shape"
   ]
  },
  {
   "cell_type": "code",
   "execution_count": 69,
   "metadata": {
    "collapsed": true
   },
   "outputs": [],
   "source": [
    "x = [0,1,2,3,4,5]"
   ]
  },
  {
   "cell_type": "code",
   "execution_count": 77,
   "metadata": {},
   "outputs": [
    {
     "name": "stdout",
     "output_type": "stream",
     "text": [
      "(0, 0)\n",
      "(8895.8532353463979, -8911.1280515789986)\n",
      "(1, 1)\n",
      "(7668.7989303404474, -7685.9895586967468)\n",
      "(2, 2)\n",
      "(7704.0938623613911, -7719.3258218467236)\n",
      "(3, 3)\n",
      "(8398.0418079008523, -8413.7655571103096)\n",
      "(4, 4)\n",
      "(7076.0244796151883, -7090.6374976038933)\n",
      "(5, 5)\n",
      "(9235.8970151347658, -9255.6057013571262)\n"
     ]
    }
   ],
   "source": [
    "#finite difference method\n",
    "#so clearly my gradient doesn't work -_-\n",
    "h = 0.001\n",
    "\n",
    "for i, j in enumerate(x):\n",
    "    print(i,j)\n",
    "    \n",
    "    \n",
    "    theta_disturbed = np.copy(theta)\n",
    "    theta_disturbed[i, j] = theta_disturbed[i,j]+h\n",
    "    costs_1 = cost_vec(X,Y, theta)\n",
    "    costs_2 = cost_vec(X,Y,theta_disturbed)\n",
    "    dcost = (costs_2 - costs_1) / h\n",
    "    grad = dcost_dtheta_vec(X,Y,theta)\n",
    "    print(grad[i,j], dcost)"
   ]
  }
 ],
 "metadata": {
  "kernelspec": {
   "display_name": "CSC411_py2",
   "language": "python",
   "name": "csc411_py2"
  },
  "language_info": {
   "codemirror_mode": {
    "name": "ipython",
    "version": 2
   },
   "file_extension": ".py",
   "mimetype": "text/x-python",
   "name": "python",
   "nbconvert_exporter": "python",
   "pygments_lexer": "ipython2",
   "version": "2.7.14"
  }
 },
 "nbformat": 4,
 "nbformat_minor": 2
}
