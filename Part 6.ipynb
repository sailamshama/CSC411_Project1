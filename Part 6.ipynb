{
 "cells": [
  {
   "cell_type": "code",
   "execution_count": null,
   "metadata": {
    "collapsed": true
   },
   "outputs": [],
   "source": [
    "'''\n",
    "PURPOSE: \n",
    "- define cost and its gradient for one-hot encoded output and 2D theta\n",
    "- Dimensions:\n",
    "    X = n x m, where n is the number of pixels and m, the number of training examples\n",
    "    Y = k x m, where k is the number of different outputs\n",
    "    Theta = n x k   \n",
    "'''\n"
   ]
  },
  {
   "cell_type": "code",
   "execution_count": 56,
   "metadata": {
    "collapsed": true
   },
   "outputs": [],
   "source": [
    "import numpy as np\n",
    "import random"
   ]
  },
  {
   "cell_type": "code",
   "execution_count": 98,
   "metadata": {
    "collapsed": true
   },
   "outputs": [],
   "source": [
    "def cost_vec(x,y,theta):\n",
    "    return np.sum ( ( y - np.dot(theta.T,x) ) ** 2) \n",
    "\n",
    "def dcost_dtheta_vec(x, y, theta):\n",
    "    return 2* np.dot( x, (np.dot( theta.T, x ) - y).T )\n",
    "\n",
    "def grad_desc_vec():\n",
    "    EPS = 1e-5   #EPS = 10**(-5)\n",
    "    prev_t = init_theta-10*EPS\n",
    "    t = init_theta.copy()\n",
    "\n",
    "    while np.linalg.norm(t - prev_t) >  EPS and itr < max_iter:\n",
    "        prev_t = t.copy()\n",
    "        t -= alpha*dcost_dtheta(x, y, t)\n",
    "    return t"
   ]
  },
  {
   "cell_type": "code",
   "execution_count": 91,
   "metadata": {},
   "outputs": [
    {
     "name": "stdout",
     "output_type": "stream",
     "text": [
      "((1025, 30), (6, 30), (1025, 6))\n"
     ]
    }
   ],
   "source": [
    "m = 30\n",
    "n = 1025\n",
    "k = 6\n",
    "X = np.random.rand(n, m)\n",
    "Y = np.random.rand(k, m)\n",
    "theta = np.random.rand(n, k)\n",
    "\n",
    "print(X.shape, Y.shape, theta.shape)\n"
   ]
  },
  {
   "cell_type": "code",
   "execution_count": 134,
   "metadata": {},
   "outputs": [
    {
     "name": "stdout",
     "output_type": "stream",
     "text": [
      "(469, 3)\n",
      "(7254.2044241580215, 7254.2053647339344)\n",
      "(60, 2)\n",
      "(9275.0148265722055, 9275.016114115715)\n",
      "(333, 5)\n",
      "(7736.8800098744869, 7736.8811145424843)\n",
      "(192, 1)\n",
      "(5740.9156341901598, 5740.9162819385529)\n",
      "(621, 3)\n",
      "(7821.98149966865, 7821.9825960695744)\n"
     ]
    }
   ],
   "source": [
    "#finite difference method\n",
    "#just need to make sure I compute finite differences for 5 different axis\n",
    "h = 0.0001\n",
    "random.seed(5000)\n",
    "c1= np.random.randint(0,1025, (5,1))\n",
    "random.seed(5000)\n",
    "c2= np.random.randint(0,6, (5,1))\n",
    "for i, j in zip(c1,c2):\n",
    "    print(i[0],j[0])       \n",
    "    theta_disturbed = np.copy(theta)\n",
    "    theta_disturbed[i, j] = theta_disturbed[i,j]+h\n",
    "    costs_1 = cost_vec(X,Y, theta)\n",
    "    costs_2 = cost_vec(X,Y,theta_disturbed)\n",
    "    dcost = (costs_2 - costs_1) / h\n",
    "    grad = dcost_dtheta_vec(X,Y,theta)\n",
    "    print(grad[i,j][0], dcost)\n",
    "\n"
   ]
  }
 ],
 "metadata": {
  "kernelspec": {
   "display_name": "CSC411_py2",
   "language": "python",
   "name": "csc411_py2"
  },
  "language_info": {
   "codemirror_mode": {
    "name": "ipython",
    "version": 2
   },
   "file_extension": ".py",
   "mimetype": "text/x-python",
   "name": "python",
   "nbconvert_exporter": "python",
   "pygments_lexer": "ipython2",
   "version": "2.7.14"
  }
 },
 "nbformat": 4,
 "nbformat_minor": 2
}
