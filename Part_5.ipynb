{
 "cells": [
  {
   "cell_type": "code",
   "execution_count": 1,
   "metadata": {},
   "outputs": [
    {
     "data": {
      "text/plain": [
       "'\\nPURPOSE: \\n1. Build a classifier that classifies actors as male or female\\n2. Build various training sizes of actors in act, train and plot the performance vs size for \\n    a. training set\\n    b. validation set\\n    c. validation set made of actors not from act (basically your test set)\\n'"
      ]
     },
     "execution_count": 1,
     "metadata": {},
     "output_type": "execute_result"
    }
   ],
   "source": [
    "'''\n",
    "PURPOSE: \n",
    "1. Build a classifier that classifies actors as male or female\n",
    "2. Build various training sizes of actors in act, train and plot the performance vs size for \n",
    "    a. training set\n",
    "    b. validation set\n",
    "    c. validation set made of actors not from act (basically your test set)\n",
    "'''"
   ]
  },
  {
   "cell_type": "code",
   "execution_count": 119,
   "metadata": {
    "collapsed": true
   },
   "outputs": [],
   "source": [
    "import numpy as np\n",
    "import random\n",
    "import matplotlib.pyplot as plt"
   ]
  },
  {
   "cell_type": "code",
   "execution_count": 78,
   "metadata": {
    "collapsed": true
   },
   "outputs": [],
   "source": [
    "def replace_labels(y,labels):\n",
    "    y_relabeled = np.copy(y)\n",
    "    for label in labels:\n",
    "        for index in np.where(y == label[0]):\n",
    "            np.put(y_relabeled, index, label[1])\n",
    "    return y_relabeled.astype(int)\n",
    "\n",
    "def flatten_set(x):\n",
    "    #returned ndarray should have shape (N, M), where N = # pixels and M = # images\n",
    "    for i in range(x.shape[-1]):\n",
    "        flattened_image = x[...,i].flatten() \n",
    "        if i == 0:\n",
    "            x_flattened = flattened_image\n",
    "        else:\n",
    "            x_flattened = np.vstack((x_flattened, flattened_image))\n",
    "            \n",
    "    return x_flattened.T\n",
    "\n",
    "def cost(x,y,theta):\n",
    "    #quadratic cost function\n",
    "    #x = np.vstack( (np.ones((1, x.shape[1])), x))\n",
    "    return np.sum( (y - np.dot(theta.T,x)) ** 2)\n",
    "\n",
    "def dcost_dtheta(x,y,theta):\n",
    "    #x = np.vstack( (np.ones((1, x.shape[1])), x))\n",
    "    return -2*np.sum((y-np.dot(theta.T, x))*x, 1)\n",
    "\n",
    "\n",
    "def grad_descent(cost, dcost_dtheta, x, y, init_theta, alpha,max_iter):\n",
    "    EPS = 1e-5   #EPS = 10**(-5)\n",
    "    prev_t = init_theta-10*EPS\n",
    "    t = init_theta.copy()\n",
    "    itr  = 1\n",
    " \n",
    "    while np.linalg.norm(t - prev_t) >  EPS and itr < max_iter:\n",
    "        prev_t = t.copy()\n",
    "        t -= alpha*dcost_dtheta(x, y, t)\n",
    "#        if itr % 50 == 0:\n",
    "#            print \"Iter\", itr\n",
    "#            print (\"cost(x) = %.2f\" %  cost(x, y, t)) \n",
    "            \n",
    "#            print \"t = (%.2f, %.2f, %.2f), cost(x) = %.2f\" % (t[0], t[1], t[2], cost(x, y, t)) \n",
    "#            print \"Gradient: \", dcost_dtheta(x, y, t), \"\\n\"\n",
    "#            y_pred = pred_y(x,t)\n",
    "#            print(\"Performance: \",performance(y_pred,y_val))\n",
    "        itr += 1  \n",
    "    return t\n",
    "\n",
    "\n",
    "def pred_y(x,theta):\n",
    "\n",
    "    #x = np.vstack((np.ones((1, x.shape[1])), x ))    \n",
    "    h_all = np.dot(theta.T,x)\n",
    "    y_pred = np.ones(h_all.shape[0])\n",
    "    \n",
    "    for i in range(h_all.shape[0]):\n",
    "        h=h_all[i]\n",
    "        if h > 0.5:\n",
    "            y_pred[i] = 1\n",
    "        elif h < 0.5:\n",
    "            y_pred[i] = 0\n",
    "        else:\n",
    "            y_pred[i]=randint(0,1)\n",
    "    return y_pred\n",
    "\n",
    "\n",
    "def performance(y_pred, y_actual):\n",
    "    sum = 0.0\n",
    "    test_size = y_actual.shape[0]\n",
    "    for i in range(test_size):\n",
    "        if y_pred[i] == y_actual[i]:\n",
    "            sum +=1\n",
    "    return sum/test_size * 100\n",
    "\n"
   ]
  },
  {
   "cell_type": "code",
   "execution_count": 79,
   "metadata": {
    "collapsed": true
   },
   "outputs": [],
   "source": [
    "#train size: 2\n",
    "x_train2 = np.load(\"x_train2.npy\")\n",
    "y_train2 = np.load(\"y_train2.npy\")\n",
    "x_val2 = np.load(\"x_val2.npy\")\n",
    "y_val2 = np.load(\"y_val2.npy\")\n",
    "\n",
    "#train size: 20\n",
    "x_train3 = np.load(\"x_train3.npy\")\n",
    "y_train3 = np.load(\"y_train3.npy\")\n",
    "x_val3 = np.load(\"x_val3.npy\")\n",
    "y_val3 = np.load(\"y_val3.npy\")\n",
    "\n",
    "#train size: 50\n",
    "x_train4 = np.load(\"x_train4.npy\")\n",
    "y_train4 = np.load(\"y_train4.npy\")\n",
    "x_val4 = np.load(\"x_val4.npy\")\n",
    "y_val4 = np.load(\"y_val4.npy\")\n",
    "\n",
    "#train size: 70\n",
    "x_train = np.load(\"x_train.npy\")\n",
    "y_train = np.load(\"y_train.npy\")\n",
    "x_val = np.load(\"x_val.npy\")\n",
    "y_val = np.load(\"y_val.npy\")\n",
    "\n",
    "#train size: 99\n",
    "x_train5 = np.load(\"x_train5.npy\")\n",
    "y_train5 = np.load(\"y_train5.npy\")\n",
    "x_val5 = np.load(\"x_val5.npy\")\n",
    "y_val5 = np.load(\"y_val5.npy\")\n",
    "\n",
    "\n",
    "#validation set size: 10 (made of actors not in set)\n",
    "x_val_others = np.load(\"x_val_other_actors.npy\")\n",
    "y_val_others = np.load(\"y_val_other_actors.npy\")"
   ]
  },
  {
   "cell_type": "code",
   "execution_count": 80,
   "metadata": {
    "collapsed": true
   },
   "outputs": [],
   "source": [
    "labels =   [(\"Alec Baldwin\",0), (\"Steve Carell\",0), (\"Lorraine Bracco\",1),(\"Peri Gilpin\",1),(\"Bill Hader\",0),(\"Angie Harmon\",1), (\"Daniel Radcliffe\", 0), (\"America Ferrera\", 1), (\"Fran Drescher\",1), (\"Gerard Butler\",0),(\"Kristin Chenoweth\",0),(\"Michael Vartan\",1)]\n",
    "\n",
    "# y_train = replace_labels(y_train, labels)\n",
    "# y_train2 = replace_labels(y_train2,labels)\n",
    "# y_train3 = replace_labels(y_train3,labels)\n",
    "# y_train4 = replace_labels(y_train4,labels)\n",
    "# y_train5 = replace_labels(y_train5,labels)\n",
    "\n",
    "# y_val = replace_labels(y_val, labels)\n",
    "# y_val2 = replace_labels(y_val2, labels)\n",
    "# y_val3 = replace_labels(y_val3, labels)\n",
    "# y_val4 = replace_labels(y_val4, labels)\n",
    "# y_val5 = replace_labels(y_val5, labels)\n",
    "# y_val_others = replace_labels(y_val_others, labels)\n",
    "\n",
    "\n",
    "# #prepare for gradient descent\n",
    "# x_train = flatten_set(x_train) / 255.0\n",
    "# x_train2 = flatten_set(x_train2) / 255.0\n",
    "# x_train3 = flatten_set(x_train3) / 255.0\n",
    "# x_train4 = flatten_set(x_train4) / 255.0\n",
    "# x_train5 = flatten_set(x_train5) / 255.0\n",
    "\n",
    "# x_val = flatten_set(x_val) / 255.0\n",
    "# x_val2 = flatten_set(x_val2) / 255.0\n",
    "# x_val3 = flatten_set(x_val3) / 255.0\n",
    "# x_val4 = flatten_set(x_val4) / 255.0\n",
    "# x_val5 = flatten_set(x_val5) / 255.0\n",
    "# x_val_others = flatten_set(x_val_others) / 255.0\n",
    "\n",
    "\n",
    "# x_train_w_bias = np.vstack( (np.ones((1, x_train.shape[1])), x_train))\n",
    "# x_train2_w_bias = np.vstack( (np.ones((1, x_train2.shape[1])), x_train2))\n",
    "# x_train3_w_bias = np.vstack( (np.ones((1, x_train3.shape[1])), x_train3))\n",
    "# x_train4_w_bias = np.vstack( (np.ones((1, x_train4.shape[1])), x_train4))\n",
    "# x_train5_w_bias = np.vstack( (np.ones((1, x_train5.shape[1])), x_train5))\n",
    "\n",
    "\n",
    "# x_val_w_bias = np.vstack( (np.ones((1, x_val.shape[1])), x_val))\n",
    "# x_val2_w_bias = np.vstack( (np.ones((1, x_val2.shape[1])), x_val2))\n",
    "# x_val3_w_bias = np.vstack( (np.ones((1, x_val3.shape[1])), x_val3))\n",
    "# x_val4_w_bias = np.vstack( (np.ones((1, x_val4.shape[1])), x_val4))\n",
    "# x_val5_w_bias = np.vstack( (np.ones((1, x_val5.shape[1])), x_val5))\n",
    "# x_val_others_w_bias = np.vstack( (np.ones((1, x_val_others.shape[1])), x_val_others))"
   ]
  },
  {
   "cell_type": "code",
   "execution_count": 137,
   "metadata": {
    "collapsed": true
   },
   "outputs": [],
   "source": [
    "#store performance\n",
    "perfs = np.ones((3,5))\n",
    "sizes =np.array([2,20,50,70, 99])\n",
    "perfs = np.vstack((sizes,perfs))"
   ]
  },
  {
   "cell_type": "code",
   "execution_count": 138,
   "metadata": {},
   "outputs": [
    {
     "name": "stderr",
     "output_type": "stream",
     "text": [
      "/Users/Admin/anaconda3/envs/CSC411_py2_env/lib/python2.7/site-packages/ipykernel_launcher.py:4: FutureWarning: elementwise comparison failed; returning scalar instead, but in the future will perform elementwise comparison\n",
      "  after removing the cwd from sys.path.\n"
     ]
    }
   ],
   "source": [
    "x_train_list = [x_train2, x_train3, x_train4, x_train, x_train5]\n",
    "x_val_list = [x_val2, x_val3, x_val4, x_val, x_val5]\n",
    "y_train_list = [y_train2, y_train3, y_train4, y_train, y_train5]\n",
    "y_val_list = [y_val2, y_val3, y_val4,y_val,  y_val5]\n",
    "\n",
    "y_val_others = replace_labels(y_val_others, labels)\n",
    "x_val_others = flatten_set(x_val_others) / 255.0\n",
    "x_val_others_w_bias = np.vstack( (np.ones((1, x_val_others.shape[1])), x_val_others))"
   ]
  },
  {
   "cell_type": "code",
   "execution_count": 139,
   "metadata": {},
   "outputs": [
    {
     "name": "stdout",
     "output_type": "stream",
     "text": [
      "iteration: 0\n",
      "iteration: 1\n",
      "iteration: 2\n",
      "iteration: 3\n",
      "iteration: 4\n"
     ]
    }
   ],
   "source": [
    "for i in range(len(x_train_list)):\n",
    "    print(\"iteration: %d\" % i)\n",
    "    y_tr = y_train_list[i]\n",
    "    y_tr = replace_labels(y_tr,labels)\n",
    "    \n",
    "    y_v = y_val_list[i]\n",
    "    y_v = replace_labels(y_v,labels)\n",
    "    \n",
    "    x_tr = x_train_list[i]\n",
    "    x_tr = flatten_set(x_tr) / 255.0\n",
    "    \n",
    "    x_v = x_val_list[i]\n",
    "    x_v = flatten_set(x_v) / 255.0\n",
    "    \n",
    "    x_tr_w_bias =  np.vstack( (np.ones((1, x_tr.shape[1])), x_tr))\n",
    "    x_v_w_bias = np.vstack( (np.ones((1, x_v.shape[1])), x_v) )\n",
    "    \n",
    "    random.seed(5000)\n",
    "    theta0 = np.random.normal( 0, 0.1, x_tr.shape[0]+1)\n",
    "    theta = grad_descent(cost, dcost_dtheta, x_tr_w_bias, y_tr, theta0, 0.0000001,30000)\n",
    "    \n",
    "\n",
    "    y_pred_tr= pred_y(x_tr_w_bias, theta)\n",
    "    y_pred_v = pred_y(x_v_w_bias, theta)\n",
    "    y_pred_val_others = pred_y(x_val_others_w_bias, theta)\n",
    "\n",
    "\n",
    "    perf_tr = performance(y_pred_tr,y_tr)\n",
    "    perf_v = performance(y_pred_v,y_v)\n",
    "    perf_others = performance(y_pred_val_others,y_val_others)\n",
    "    \n",
    "    perfs[1,i] = perf_tr\n",
    "    perfs[2,i] = perf_v\n",
    "    perfs[3,i] = perf_others\n",
    "    \n"
   ]
  },
  {
   "cell_type": "code",
   "execution_count": 145,
   "metadata": {},
   "outputs": [
    {
     "data": {
      "text/plain": [
       "array([ 70.        ,  75.23809524,  83.33333333,  50.        ])"
      ]
     },
     "execution_count": 145,
     "metadata": {},
     "output_type": "execute_result"
    }
   ],
   "source": [
    "perfs[:,3]"
   ]
  },
  {
   "cell_type": "code",
   "execution_count": 169,
   "metadata": {},
   "outputs": [
    {
     "data": {
      "image/png": "[encoded data removed]",
      "text/plain": [
       "<matplotlib.figure.Figure at 0x116057dd0>"
      ]
     },
     "metadata": {},
     "output_type": "display_data"
    }
   ],
   "source": [
    "fig = plt.figure(figsize=(14, 3))\n",
    "\n",
    "a = fig.add_subplot(1,3,1)\n",
    "a.set_title(\"Performance on training set\")\n",
    "a.set_ylabel(\"Performance (in %)\")\n",
    "plt.plot(perfs[0,:],perfs[1,:])\n",
    "\n",
    "b = fig.add_subplot(1,3,2)\n",
    "b.set_title(\"Performance on validation set\")\n",
    "b.set_xlabel(\"Size of training set\")\n",
    "plt.plot(perfs[0,:],perfs[2,:])\n",
    "\n",
    "c = fig.add_subplot(1,3,3)\n",
    "c.set_title(\"Performance on set of other actors\")\n",
    "plt.plot(perfs[0,:],perfs[3,:])\n",
    "\n",
    "plt.savefig(\"Figures_Part5.pdf\")\n"
   ]
  },
  {
   "cell_type": "code",
   "execution_count": null,
   "metadata": {
    "collapsed": true,
    "scrolled": false
   },
   "outputs": [],
   "source": [
    "# pixel_inten_mean = np.mean(x_train)\n",
    "# pixel_inten_std  = np.std(x_train)\n",
    "\n",
    "# theta0 = np.random.normal( 0, 0.1, x_train.shape[0]+1) #of dimension (1025,)\n",
    "# theta_complete = grad_descent(cost, dcost_dtheta, x_train_w_bias, y_train, theta0, 0.0000001,30000)\n",
    "\n",
    "# #view performance\n",
    "# y_pred_train = pred_y(x=x_train_w_bias, theta=theta_complete)\n",
    "\n",
    "# y_pred_val = pred_y(x=x_val_w_bias, theta=theta_complete)\n",
    "\n",
    "# y_pred_val_others = pred_y(x=x_val_others_w_bias, theta=theta_complete)\n",
    "\n",
    "# performance_train = performance(y_pred_train,y_train)\n",
    "# performance_val = performance(y_pred_val,y_val)\n",
    "# performance_val_others = performance(y_pred_val_others,y_val_others)\n",
    "# print(performance_train,performance_val, performance_val_others)"
   ]
  }
 ],
 "metadata": {
  "kernelspec": {
   "display_name": "CSC411_py2",
   "language": "python",
   "name": "csc411_py2"
  },
  "language_info": {
   "codemirror_mode": {
    "name": "ipython",
    "version": 2
   },
   "file_extension": ".py",
   "mimetype": "text/x-python",
   "name": "python",
   "nbconvert_exporter": "python",
   "pygments_lexer": "ipython2",
   "version": "2.7.14"
  }
 },
 "nbformat": 4,
 "nbformat_minor": 2
}
