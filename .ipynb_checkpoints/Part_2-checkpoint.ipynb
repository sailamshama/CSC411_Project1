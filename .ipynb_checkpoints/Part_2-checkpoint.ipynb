{
 "cells": [
  {
   "cell_type": "code",
   "execution_count": 171,
   "metadata": {
    "collapsed": true
   },
   "outputs": [],
   "source": [
    "'''\n",
    "PURPOSE: \n",
    "split data set to obtain train, validation and test sets with NON-OVERLAPPING images\n",
    "'''\n",
    "import os\n",
    "import numpy as np\n",
    "import pylab as pl\n",
    "from random import randint\n",
    "from scipy.misc import imread\n",
    "import matplotlib.pyplot as plt"
   ]
  },
  {
   "cell_type": "code",
   "execution_count": 51,
   "metadata": {},
   "outputs": [],
   "source": [
    "#load data\n",
    "x = np.load(\"x.npy\")\n",
    "y = np.load(\"y.npy\")"
   ]
  },
  {
   "cell_type": "code",
   "execution_count": 33,
   "metadata": {},
   "outputs": [
    {
     "data": {
      "text/plain": [
       "<matplotlib.image.AxesImage at 0x10e170150>"
      ]
     },
     "execution_count": 33,
     "metadata": {},
     "output_type": "execute_result"
    },
    {
     "data": {
      "image/png": "[encoded data removed]",
      "text/plain": [
       "<matplotlib.figure.Figure at 0x10df6c250>"
      ]
     },
     "metadata": {},
     "output_type": "display_data"
    }
   ],
   "source": [
    "plt.imshow(x[:,:,5], cmap=\"gray\")"
   ]
  },
  {
   "cell_type": "code",
   "execution_count": null,
   "metadata": {},
   "outputs": [],
   "source": [
    "def split_dataset(x,y,train_size,val_size,test_size): \n",
    "    act = np.unique(y)\n",
    "    for actor in act:\n",
    "    \n",
    "        start = np.where(y == actor)[0][0]\n",
    "        stop = np.where(y == actor)[0][-1]\n",
    "        actor_data = x[:,:,start:stop]\n",
    "        \n",
    "        i=0\n",
    "        j=0\n",
    "        k=0\n",
    "        \n",
    "        #pick 70 images for train set\n",
    "        while i < train_size: \n",
    "            rand = randint(0,actor_data.shape[2]-1)\n",
    "            if i == 0:\n",
    "                x_train = actor_data[:,:,i]\n",
    "                y_train = np.array([actor])\n",
    "            \n",
    "            else:\n",
    "                x_train = np.dstack(x_train, actor_data[:,:,i])\n",
    "                y_train = np.append(y_train,[actor])   \n",
    "        #remove data from \"source\" to avoid overlap between sets\n",
    "        actor_data = np.delete(actor_data, rand, axis = 2)\n",
    "        i+=1\n",
    "\n",
    "        #pick 10 images for val set\n",
    "        while j < val_size:\n",
    "            rand = randint(0,actor_data.shape[2]-1)\n",
    "            if j == 0: \n",
    "                x_val = actor_data[:,:,j]\n",
    "                y_val = np.array([actor])\n",
    "            else: \n",
    "                x_val = np.dstack(x_val, actor_data[:,:,j])\n",
    "                y_val = np.append(y_val,[actor])\n",
    "        #remove data from \"source\" to avoid overlap between sets\n",
    "        actor_data = np.delete(actor_data, rand, axis = 2)\n",
    "        j+=1\n",
    "\n",
    "        #pick 10 images for test set\n",
    "        while k < test_size:\n",
    "            rand = randint(0,actor_data.shape[2]-1)\n",
    "            if k == 0: \n",
    "                x_test = actor_data[:,:,k]\n",
    "                y_test = np.array([actor])\n",
    "            else:\n",
    "                x_test = np.dstack(x_test, actor_data[:,:,k])\n",
    "                y_test = np.append(y_test,[actor])\n",
    "\n",
    "        #remove data from \"source\" to avoid overlap between sets\n",
    "        actor_data = np.delete(actor_data, rand, axis = 2)\n",
    "        k+=1\n",
    "\n",
    "    return x_train, y_train, x_val, y_val, x_test, y_test"
   ]
  },
  {
   "cell_type": "code",
   "execution_count": null,
   "metadata": {},
   "outputs": [],
   "source": [
    "x_train, y_train, x_val, y_val, x_test, y_test = split_dataset(x,y,70,10,10)"
   ]
  },
  {
   "cell_type": "code",
   "execution_count": null,
   "metadata": {
    "collapsed": true
   },
   "outputs": [],
   "source": [
    "print(x_train.shape , y_train.shape)"
   ]
  },
  {
   "cell_type": "code",
   "execution_count": 174,
   "metadata": {},
   "outputs": [
    {
     "data": {
      "text/plain": [
       "131"
      ]
     },
     "execution_count": 174,
     "metadata": {},
     "output_type": "execute_result"
    }
   ],
   "source": [
    "randint(0,actor_data.shape[2]-1)\n",
    "#random.randint(0,actor_data.shape[0][2]-1)\n"
   ]
  },
  {
   "cell_type": "code",
   "execution_count": 89,
   "metadata": {},
   "outputs": [
    {
     "data": {
      "image/png": "[encoded data removed]",
      "text/plain": [
       "<matplotlib.figure.Figure at 0x10ea0da90>"
      ]
     },
     "metadata": {},
     "output_type": "display_data"
    }
   ],
   "source": [
    "#trying to see all \n",
    "# actor = 'Alec Baldwin'\n",
    "# start = np.where(y == actor)[0][0]\n",
    "# stop = np.where(y == actor)[0][-1]\n",
    "# actor_data = x[:,:,start:stop]\n",
    "# img=None\n",
    "# for i in range(actor_data.shape[2]):\n",
    "#     im = actor_data[:,:,i]\n",
    "#     plt.imshow(im, cmap=\"gray\")"
   ]
  },
  {
   "cell_type": "code",
   "execution_count": 110,
   "metadata": {},
   "outputs": [
    {
     "name": "stdout",
     "output_type": "stream",
     "text": [
      "(32, 32, 4)\n"
     ]
    },
    {
     "data": {
      "image/png": "[encoded data removed]",
      "text/plain": [
       "<matplotlib.figure.Figure at 0x10f4c0690>"
      ]
     },
     "metadata": {},
     "output_type": "display_data"
    }
   ],
   "source": [
    "# #testing the delete function\n",
    "# actor = 'Alec Baldwin'\n",
    "# start = np.where(y == actor)[0][0]\n",
    "# stop = np.where(y == actor)[0][-1]\n",
    "# actor_data = x[:,:,start:stop]\n",
    "# sample = actor_data[:,:,0:5]\n",
    "# plt.imshow(actor_data[:,:,2], cmap=\"gray\")\n",
    "# #delete\n",
    "# removed  = np.delete(sample, 1, axis = 2)\n",
    "# print(removed.shape)"
   ]
  },
  {
   "cell_type": "code",
   "execution_count": null,
   "metadata": {
    "collapsed": true
   },
   "outputs": [],
   "source": [
    "# #total number of images in the dataset\n",
    "# from os import listdir\n",
    "# from os.path import isfile, join\n",
    "# #need actor name\n",
    "# image_path = \n",
    "# onlyfiles = [f for f in listdir(mypath) if isfile(join(mypath, f))]"
   ]
  },
  {
   "cell_type": "code",
   "execution_count": null,
   "metadata": {
    "collapsed": true
   },
   "outputs": [],
   "source": [
    "def data_segmentation(x,y):\n",
    "    \n",
    "  return x_train, y_train, x_val, y_val, x_test, y_test"
   ]
  },
  {
   "cell_type": "code",
   "execution_count": null,
   "metadata": {
    "collapsed": true
   },
   "outputs": [],
   "source": []
  },
  {
   "cell_type": "code",
   "execution_count": null,
   "metadata": {
    "collapsed": true
   },
   "outputs": [],
   "source": [
    "#create the following\n",
    "#x_train\n",
    "#y_train\n",
    "#x_val\n",
    "#y_val\n",
    "#x_test\n",
    "#y_test"
   ]
  }
 ],
 "metadata": {
  "kernelspec": {
   "display_name": "CSC411_py2",
   "language": "python",
   "name": "csc411_py2"
  },
  "language_info": {
   "codemirror_mode": {
    "name": "ipython",
    "version": 2
   },
   "file_extension": ".py",
   "mimetype": "text/x-python",
   "name": "python",
   "nbconvert_exporter": "python",
   "pygments_lexer": "ipython2",
   "version": "2.7.14"
  }
 },
 "nbformat": 4,
 "nbformat_minor": 2
}
