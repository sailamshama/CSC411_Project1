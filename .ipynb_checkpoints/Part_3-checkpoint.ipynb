{
 "cells": [
  {
   "cell_type": "code",
   "execution_count": null,
   "metadata": {
    "collapsed": true
   },
   "outputs": [],
   "source": [
    "'''\n",
    "PURPOSE: To build a classifier using Linear Regression to distinguish images of two actors.\n",
    "'''"
   ]
  },
  {
   "cell_type": "code",
   "execution_count": 201,
   "metadata": {},
   "outputs": [],
   "source": [
    "import numpy as np \n",
    "import matplotlib.pyplot as plt"
   ]
  },
  {
   "cell_type": "code",
   "execution_count": 171,
   "metadata": {
    "collapsed": true
   },
   "outputs": [],
   "source": [
    "#load data sets containing only 'Alec Baldwin' and 'Steve Carel'\n",
    "x_train = np.load(\"x_train0.npy\") \n",
    "y_train = np.load(\"y_train0.npy\")\n",
    "\n",
    "x_val = np.load(\"x_val0.npy\")\n",
    "y_val = np.load(\"y_val0.npy\")\n",
    "\n",
    "x_test = np.load(\"x_test0.npy\")\n",
    "y_test = np.load(\"y_test0.npy\")"
   ]
  },
  {
   "cell_type": "code",
   "execution_count": 172,
   "metadata": {},
   "outputs": [],
   "source": [
    "def replace_labels(y,labels):\n",
    "    y_relabeled = np.copy(y)\n",
    "    for label in labels:\n",
    "        for index in np.where(y == label[0]):\n",
    "            np.put(y_relabeled, index, label[1])\n",
    "    return y_relabeled.astype(int)\n",
    "\n",
    "#change output labels to 0 and 1\n"
   ]
  },
  {
   "cell_type": "code",
   "execution_count": 173,
   "metadata": {
    "collapsed": true
   },
   "outputs": [],
   "source": [
    "def flatten_set(x):\n",
    "    #returned ndarray should have shape (N, M), where N = # pixels and M = # images\n",
    "    for i in range(x.shape[-1]):\n",
    "        flattened_image = x[...,i].flatten() \n",
    "        if i == 0:\n",
    "            x_flattened = flattened_image\n",
    "        else:\n",
    "            x_flattened = np.vstack((x_flattened, flattened_image))\n",
    "            \n",
    "    return x_flattened.T"
   ]
  },
  {
   "cell_type": "code",
   "execution_count": 258,
   "metadata": {},
   "outputs": [],
   "source": [
    "def h(x,theta):\n",
    "    #theta is one dimension of shape (N+1,) where N is the number of features (pixels, in this case)\n",
    "    #weighted sum of pixel intensities + constant\n",
    "    x = np.vstack((np.ones((1, x.shape[1])), x ))                 \n",
    "    return np.dot(theta.T,x)"
   ]
  },
  {
   "cell_type": "code",
   "execution_count": 259,
   "metadata": {
    "collapsed": true
   },
   "outputs": [],
   "source": [
    "def cost(x,y,theta):\n",
    "    #quadratic cost function\n",
    "    return sum( (y - dot(theta.T,x)) ** 2)\n",
    "    "
   ]
  },
  {
   "cell_type": "code",
   "execution_count": 260,
   "metadata": {
    "collapsed": true
   },
   "outputs": [],
   "source": [
    "def dcost_dtheta(x,y,theta):\n",
    "    x = vstack( (ones((1, x.shape[1])), x))\n",
    "    return -2*sum((y-dot(theta.T, x))*x, 1)\n",
    "\n"
   ]
  },
  {
   "cell_type": "code",
   "execution_count": null,
   "metadata": {
    "collapsed": true
   },
   "outputs": [],
   "source": [
    "def gradient_descent(cost, dcost, x, y, init_theta, alpha):\n",
    "    EPS = 1e-5   #EPS = 10**(-5)\n",
    "    prev_t = init_t-10*EPS\n",
    "    t = init_t.copy()\n",
    "    max_iter = 30000\n",
    "    iter  = 0\n",
    "    while norm(t - prev_t) >  EPS and iter < max_iter:\n",
    "        prev_t = t.copy()\n",
    "        t -= alpha*df(x, y, t)\n",
    "        if iter % 500 == 0:\n",
    "            print \"Iter\", iter\n",
    "            print \"x = (%.2f, %.2f, %.2f), f(x) = %.2f\" % (t[0], t[1], t[2], f(x, y, t)) \n",
    "            print \"Gradient: \", df(x, y, t), \"\\n\"\n",
    "        iter += 1\n",
    "    return t"
   ]
  },
  {
   "cell_type": "code",
   "execution_count": 174,
   "metadata": {},
   "outputs": [],
   "source": [
    "y_train = replace_labels(y_train, [(\"Alec Baldwin\",1), (\"Steve Carell\",0)])\n",
    "y_val = replace_labels(y_val, [(\"Alec Baldwin\",1), (\"Steve Carell\",0)])\n",
    "y_test = replace_labels(y_test, [(\"Alec Baldwin\",1), (\"Steve Carell\",0)])"
   ]
  },
  {
   "cell_type": "code",
   "execution_count": 203,
   "metadata": {
    "collapsed": true
   },
   "outputs": [],
   "source": [
    "#so you'll have a different image in each column\n",
    "x_train = flatten_set(x_train)\n",
    "x_val = flatten_set(x_val)\n",
    "x_test = flatten_set(x_test)"
   ]
  }
 ],
 "metadata": {
  "kernelspec": {
   "display_name": "CSC411_py2",
   "language": "python",
   "name": "csc411_py2"
  },
  "language_info": {
   "codemirror_mode": {
    "name": "ipython",
    "version": 2
   },
   "file_extension": ".py",
   "mimetype": "text/x-python",
   "name": "python",
   "nbconvert_exporter": "python",
   "pygments_lexer": "ipython2",
   "version": "2.7.14"
  }
 },
 "nbformat": 4,
 "nbformat_minor": 2
}
