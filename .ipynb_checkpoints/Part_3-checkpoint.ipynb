{
 "cells": [
  {
   "cell_type": "code",
   "execution_count": null,
   "metadata": {
    "collapsed": true
   },
   "outputs": [],
   "source": [
    "'''\n",
    "PURPOSE: To build a classifier using Linear Regression to distinguish images of two actors.\n",
    "'''"
   ]
  },
  {
   "cell_type": "code",
   "execution_count": 262,
   "metadata": {},
   "outputs": [],
   "source": [
    "import numpy as np \n",
    "import matplotlib.pyplot as plt"
   ]
  },
  {
   "cell_type": "code",
   "execution_count": 263,
   "metadata": {
    "collapsed": true
   },
   "outputs": [],
   "source": [
    "#load data sets containing only 'Alec Baldwin' and 'Steve Carel'\n",
    "x_train = np.load(\"x_train0.npy\") \n",
    "y_train = np.load(\"y_train0.npy\")\n",
    "\n",
    "x_val = np.load(\"x_val0.npy\")\n",
    "y_val = np.load(\"y_val0.npy\")\n",
    "\n",
    "x_test = np.load(\"x_test0.npy\")\n",
    "y_test = np.load(\"y_test0.npy\")"
   ]
  },
  {
   "cell_type": "code",
   "execution_count": 264,
   "metadata": {},
   "outputs": [],
   "source": [
    "def replace_labels(y,labels):\n",
    "    y_relabeled = np.copy(y)\n",
    "    for label in labels:\n",
    "        for index in np.where(y == label[0]):\n",
    "            np.put(y_relabeled, index, label[1])\n",
    "    return y_relabeled.astype(int)\n",
    "\n",
    "#change output labels to 0 and 1\n"
   ]
  },
  {
   "cell_type": "code",
   "execution_count": 265,
   "metadata": {
    "collapsed": true
   },
   "outputs": [],
   "source": [
    "def flatten_set(x):\n",
    "    #returned ndarray should have shape (N, M), where N = # pixels and M = # images\n",
    "    for i in range(x.shape[-1]):\n",
    "        flattened_image = x[...,i].flatten() \n",
    "        if i == 0:\n",
    "            x_flattened = flattened_image\n",
    "        else:\n",
    "            x_flattened = np.vstack((x_flattened, flattened_image))\n",
    "            \n",
    "    return x_flattened.T"
   ]
  },
  {
   "cell_type": "code",
   "execution_count": 266,
   "metadata": {},
   "outputs": [],
   "source": [
    "def h(x,theta):\n",
    "    #theta is one dimension of shape (N+1,) where N is the number of features (pixels, in this case)\n",
    "    #weighted sum of pixel intensities + constant\n",
    "    x = np.vstack((np.ones((1, x.shape[1])), x ))                 \n",
    "    return np.dot(theta.T,x)"
   ]
  },
  {
   "cell_type": "code",
   "execution_count": 397,
   "metadata": {
    "collapsed": true
   },
   "outputs": [],
   "source": [
    "def cost(x,y,theta):\n",
    "    #quadratic cost function\n",
    "    x = np.vstack( (np.ones((1, x.shape[1])), x))\n",
    "    return np.sum( (y - np.dot(theta.T,x)) ** 2)\n",
    "    "
   ]
  },
  {
   "cell_type": "code",
   "execution_count": 301,
   "metadata": {
    "collapsed": true
   },
   "outputs": [],
   "source": [
    "def dcost_dtheta(x,y,theta):\n",
    "    x = np.vstack( (np.ones((1, x.shape[1])), x))\n",
    "    return -2*np.sum((y-np.dot(theta.T, x))*x, 1)\n",
    "\n"
   ]
  },
  {
   "cell_type": "code",
   "execution_count": 474,
   "metadata": {
    "collapsed": true
   },
   "outputs": [],
   "source": [
    "def grad_descent(cost, dcost_dtheta, x, y, init_theta, alpha,max_iter):\n",
    "    EPS = 1e-5   #EPS = 10**(-5)\n",
    "    prev_t = init_theta-10*EPS\n",
    "    t = init_theta.copy()\n",
    "    iter  = 1\n",
    " \n",
    "    while np.linalg.norm(t - prev_t) >  EPS and iter < max_iter:\n",
    "#        print(np.linalg.norm(t - prev_t), max_iter)\n",
    "        prev_t = t.copy()\n",
    "        t -= alpha*dcost_dtheta(x, y, t)\n",
    "#         if iter % int(max_iter/10) == 0:\n",
    "#             print \"Iter\", iter\n",
    "#             print \"x = (%.2f, %.2f, %.2f), cost(x) = %.2f\" % (t[0], t[1], t[2], cost(x, y, t)) \n",
    "#             print \"Gradient: \", dcost_dtheta(x, y, t), \"\\n\"\n",
    "        iter += 1\n",
    "    return t"
   ]
  },
  {
   "cell_type": "code",
   "execution_count": 270,
   "metadata": {},
   "outputs": [],
   "source": [
    "y_train = replace_labels(y_train, [(\"Alec Baldwin\",1), (\"Steve Carell\",0)])\n",
    "y_val = replace_labels(y_val, [(\"Alec Baldwin\",1), (\"Steve Carell\",0)])\n",
    "y_test = replace_labels(y_test, [(\"Alec Baldwin\",1), (\"Steve Carell\",0)])"
   ]
  },
  {
   "cell_type": "code",
   "execution_count": 519,
   "metadata": {
    "collapsed": true
   },
   "outputs": [],
   "source": [
    "x_train = flatten_set(x_train) / 255\n",
    "x_val = flatten_set(x_val) / 255\n",
    "x_test = flatten_set(x_test) / 255"
   ]
  },
  {
   "cell_type": "code",
   "execution_count": 514,
   "metadata": {
    "collapsed": true
   },
   "outputs": [],
   "source": [
    "pixel_inten_mean = np.mean(x_test)\n",
    "pixel_inten_std  = np.std(x_test)\n",
    "theta0 = np.random.normal( 0, 10, x_test.shape[0]+1) #of dimension (1025,)\n",
    "#theta0 = theta0.reshape(theta0.shape[0],1)\n"
   ]
  },
  {
   "cell_type": "code",
   "execution_count": null,
   "metadata": {},
   "outputs": [],
   "source": [
    "for i in range(1,1000):\n",
    "    theta = grad_descent(cost, dcost_dtheta, x_train, y_train, theta0, 0.000001,i)\n",
    "    \n",
    "print(cost(x_val, y_val,theta))"
   ]
  },
  {
   "cell_type": "code",
   "execution_count": 404,
   "metadata": {},
   "outputs": [
    {
     "data": {
      "text/plain": [
       "True"
      ]
     },
     "execution_count": 404,
     "metadata": {},
     "output_type": "execute_result"
    }
   ],
   "source": [
    "EPS = 1e-5 \n",
    "iter =1\n",
    "max_iter = 30001\n",
    "prev_t = theta0-10*EPS\n",
    "t = theta0.copy()\n",
    "np.linalg.norm(t - prev_t) >  EPS and iter < max_iter"
   ]
  }
 ],
 "metadata": {
  "kernelspec": {
   "display_name": "CSC411_py2",
   "language": "python",
   "name": "csc411_py2"
  },
  "language_info": {
   "codemirror_mode": {
    "name": "ipython",
    "version": 2
   },
   "file_extension": ".py",
   "mimetype": "text/x-python",
   "name": "python",
   "nbconvert_exporter": "python",
   "pygments_lexer": "ipython2",
   "version": "2.7.14"
  }
 },
 "nbformat": 4,
 "nbformat_minor": 2
}
