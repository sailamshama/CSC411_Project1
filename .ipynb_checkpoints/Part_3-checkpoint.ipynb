{
 "cells": [
  {
   "cell_type": "code",
   "execution_count": null,
   "metadata": {
    "collapsed": true
   },
   "outputs": [],
   "source": [
    "'''\n",
    "PURPOSE: \n",
    "To build a classifier using Linear Regression to distinguish images of two actors.\n",
    "I also use this file to obtain thetas for part 4\n",
    "'''"
   ]
  },
  {
   "cell_type": "code",
   "execution_count": null,
   "metadata": {
    "collapsed": true
   },
   "outputs": [],
   "source": [
    "import numpy as np \n",
    "import matplotlib.pyplot as plt\n",
    "from random import randint"
   ]
  },
  {
   "cell_type": "code",
   "execution_count": null,
   "metadata": {
    "collapsed": true
   },
   "outputs": [],
   "source": [
    "def replace_labels(y,labels):\n",
    "    y_relabeled = np.copy(y)\n",
    "    for label in labels:\n",
    "        for index in np.where(y == label[0]):\n",
    "            np.put(y_relabeled, index, label[1])\n",
    "    return y_relabeled.astype(int)\n",
    "\n",
    "#change output labels to 0 and 1\n"
   ]
  },
  {
   "cell_type": "code",
   "execution_count": null,
   "metadata": {
    "collapsed": true
   },
   "outputs": [],
   "source": [
    "def flatten_set(x):\n",
    "    #returned ndarray should have shape (N, M), where N = # pixels and M = # images\n",
    "    for i in range(x.shape[-1]):\n",
    "        flattened_image = x[...,i].flatten() \n",
    "        if i == 0:\n",
    "            x_flattened = flattened_image\n",
    "        else:\n",
    "            x_flattened = np.vstack((x_flattened, flattened_image))\n",
    "            \n",
    "    return x_flattened.T"
   ]
  },
  {
   "cell_type": "code",
   "execution_count": null,
   "metadata": {
    "collapsed": true
   },
   "outputs": [],
   "source": [
    "def cost(x,y,theta):\n",
    "    #quadratic cost function\n",
    "    #x = np.vstack( (np.ones((1, x.shape[1])), x))\n",
    "    return np.sum( (y - np.dot(theta.T,x)) ** 2)\n",
    "    "
   ]
  },
  {
   "cell_type": "code",
   "execution_count": null,
   "metadata": {
    "collapsed": true
   },
   "outputs": [],
   "source": [
    "def dcost_dtheta(x,y,theta):\n",
    "    #x = np.vstack( (np.ones((1, x.shape[1])), x))\n",
    "    return -2*np.sum((y-np.dot(theta.T, x))*x, 1)\n",
    "\n"
   ]
  },
  {
   "cell_type": "code",
   "execution_count": 168,
   "metadata": {
    "collapsed": true
   },
   "outputs": [],
   "source": [
    "def grad_descent(cost, dcost_dtheta, x, y, init_theta, alpha,max_iter):\n",
    "    EPS = 1e-5   #EPS = 10**(-5)\n",
    "    prev_t = init_theta-10*EPS\n",
    "    t = init_theta.copy()\n",
    "    itr  = 1\n",
    " \n",
    "    while np.linalg.norm(t - prev_t) >  EPS and itr < max_iter:\n",
    "        prev_t = t.copy()\n",
    "        t -= alpha*dcost_dtheta(x, y, t)\n",
    "        if itr % 50 == 0:\n",
    "            print \"Iter\", itr\n",
    "            print \"t = (%.2f, %.2f, %.2f), cost(x) = %.2f\" % (t[0], t[1], t[2], cost(x, y, t)) \n",
    "            print \"Gradient: \", dcost_dtheta(x, y, t), \"\\n\"\n",
    "#           y_pred = pred_y(x,t)\n",
    "#            print(\"Performance: \",performance(y_pred,y_val))\n",
    "        itr += 1\n",
    "\n",
    "    \n",
    "    return t"
   ]
  },
  {
   "cell_type": "code",
   "execution_count": null,
   "metadata": {
    "collapsed": true
   },
   "outputs": [],
   "source": [
    "def pred_y(x,theta):\n",
    "\n",
    "    #x = np.vstack((np.ones((1, x.shape[1])), x ))    \n",
    "    h_all = np.dot(theta.T,x)\n",
    "#    print(\"h(theta) for all images: \")\n",
    "#    print(h_all)\n",
    "    y_pred = np.ones(h_all.shape[0])\n",
    "    \n",
    "    for i in range(h_all.shape[0]):\n",
    "        h=h_all[i]\n",
    "        if h > 0.5:\n",
    "            y_pred[i] = 1\n",
    "        elif h < 0.5:\n",
    "            y_pred[i] = 0\n",
    "        else:\n",
    "            y_pred[i]=randint(0,1)\n",
    "    return y_pred"
   ]
  },
  {
   "cell_type": "code",
   "execution_count": null,
   "metadata": {
    "collapsed": true
   },
   "outputs": [],
   "source": [
    "def performance(y_pred, y):\n",
    "    sum = 0.0\n",
    "    test_size = y.shape[0]\n",
    "    for i in range(test_size):\n",
    "        if y_pred[i] == y[i]:\n",
    "            sum +=1\n",
    "    return sum/test_size * 100"
   ]
  },
  {
   "cell_type": "code",
   "execution_count": null,
   "metadata": {
    "collapsed": true
   },
   "outputs": [],
   "source": [
    "np.random.seed(2837499)"
   ]
  },
  {
   "cell_type": "code",
   "execution_count": null,
   "metadata": {
    "collapsed": true
   },
   "outputs": [],
   "source": [
    "#load data sets containing only 'Alec Baldwin' and 'Steve Carel'\n",
    "x_train = np.load(\"x_train0.npy\") \n",
    "y_train = np.load(\"y_train0.npy\")\n",
    "\n",
    "x_val = np.load(\"x_val0.npy\")\n",
    "y_val = np.load(\"y_val0.npy\")\n",
    "\n",
    "x_test = np.load(\"x_test0.npy\")\n",
    "y_test = np.load(\"y_test0.npy\")"
   ]
  },
  {
   "cell_type": "code",
   "execution_count": null,
   "metadata": {
    "collapsed": true
   },
   "outputs": [],
   "source": [
    "y_train = replace_labels(y_train, [(\"Alec Baldwin\",1), (\"Steve Carell\",0)])\n",
    "y_val = replace_labels(y_val, [(\"Alec Baldwin\",1), (\"Steve Carell\",0)])\n",
    "y_test = replace_labels(y_test, [(\"Alec Baldwin\",1), (\"Steve Carell\",0)])"
   ]
  },
  {
   "cell_type": "code",
   "execution_count": null,
   "metadata": {
    "collapsed": true
   },
   "outputs": [],
   "source": [
    "x_train = flatten_set(x_train) / 255.0\n",
    "x_val = flatten_set(x_val) / 255.0\n",
    "x_test = flatten_set(x_test) / 255.0"
   ]
  },
  {
   "cell_type": "code",
   "execution_count": null,
   "metadata": {
    "collapsed": true
   },
   "outputs": [],
   "source": [
    "#initialize from normal distribution\n",
    "pixel_inten_mean = np.mean(x_train)\n",
    "pixel_inten_std  = np.std(x_train)\n",
    "#change center to 0.5 and std to 0.2 or something\n",
    "theta0 = np.random.normal( 0, 0.2, x_train.shape[0]+1) #of dimension (1025,)\n"
   ]
  },
  {
   "cell_type": "code",
   "execution_count": null,
   "metadata": {
    "collapsed": true
   },
   "outputs": [],
   "source": [
    "x_train_w_bias = np.vstack( (np.ones((1, x_train.shape[1])), x_train))\n",
    "x_val_w_bias = np.vstack( (np.ones((1, x_val.shape[1])), x_val))"
   ]
  },
  {
   "cell_type": "code",
   "execution_count": null,
   "metadata": {
    "collapsed": true,
    "scrolled": false
   },
   "outputs": [],
   "source": [
    "theta_complete = grad_descent(cost, dcost_dtheta, x_train_w_bias, y_train, theta0, 0.00001,30000)\n"
   ]
  },
  {
   "cell_type": "code",
   "execution_count": null,
   "metadata": {
    "collapsed": true
   },
   "outputs": [],
   "source": [
    "#theta for complete dataset\n",
    "np.save(\"theta_part3_complete.npy\",theta_complete)"
   ]
  },
  {
   "cell_type": "code",
   "execution_count": null,
   "metadata": {
    "collapsed": true
   },
   "outputs": [],
   "source": []
  },
  {
   "cell_type": "code",
   "execution_count": null,
   "metadata": {
    "collapsed": true
   },
   "outputs": [],
   "source": [
    "'''\n",
    "Part 4 : Obtaning thetas from training on data set of only 2 images per actor\n",
    "'''"
   ]
  },
  {
   "cell_type": "code",
   "execution_count": 164,
   "metadata": {
    "collapsed": true
   },
   "outputs": [],
   "source": [
    "x_train_small = np.load(\"x_train1.npy\") \n",
    "y_train_small = np.load(\"y_train1.npy\")\n",
    "\n",
    "x_train_small = flatten_set(x_train_small) / 255.0\n",
    "y_train_small = replace_labels(y_train_small, [(\"Alec Baldwin\",1), (\"Steve Carell\",0)])"
   ]
  },
  {
   "cell_type": "code",
   "execution_count": 165,
   "metadata": {
    "collapsed": true
   },
   "outputs": [],
   "source": [
    "pixel_inten_mean = np.mean(x_train_small)\n",
    "pixel_inten_std  = np.std(x_train_small)\n",
    "theta0 = np.random.normal( 0, 0, x_train_small.shape[0]+1) #of dimension (1025,)"
   ]
  },
  {
   "cell_type": "code",
   "execution_count": 166,
   "metadata": {
    "collapsed": true
   },
   "outputs": [],
   "source": [
    "x_train_small_w_bias = np.vstack( (np.ones((1, x_train_small.shape[1])), x_train_small))"
   ]
  },
  {
   "cell_type": "code",
   "execution_count": null,
   "metadata": {},
   "outputs": [],
   "source": [
    "theta_small = grad_descent(cost, dcost_dtheta, x_train_small_w_bias, y_train_small, theta0, 0.00001,30000)\n"
   ]
  },
  {
   "cell_type": "code",
   "execution_count": 169,
   "metadata": {
    "collapsed": true
   },
   "outputs": [],
   "source": [
    "np.save(\"theta_part3_small.npy\",theta_small)"
   ]
  }
 ],
 "metadata": {
  "kernelspec": {
   "display_name": "CSC411_py2",
   "language": "python",
   "name": "csc411_py2"
  },
  "language_info": {
   "codemirror_mode": {
    "name": "ipython",
    "version": 2
   },
   "file_extension": ".py",
   "mimetype": "text/x-python",
   "name": "python",
   "nbconvert_exporter": "python",
   "pygments_lexer": "ipython2",
   "version": "2.7.14"
  }
 },
 "nbformat": 4,
 "nbformat_minor": 2
}
