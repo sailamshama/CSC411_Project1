{
 "cells": [
  {
   "cell_type": "code",
   "execution_count": null,
   "metadata": {
    "collapsed": true
   },
   "outputs": [],
   "source": [
    "'''\n",
    "testing the delete function\n",
    "'''\n",
    "# actor = 'Alec Baldwin'\n",
    "# start = np.where(y == actor)[0][0]\n",
    "# stop = np.where(y == actor)[0][-1]\n",
    "# actor_data = x[:,:,start:stop]\n",
    "# sample = actor_data[:,:,0:5]\n",
    "# plt.imshow(actor_data[:,:,2], cmap=\"gray\")\n",
    "# #delete\n",
    "# removed  = np.delete(sample, 1, axis = 2)\n",
    "# print(removed.shape)"
   ]
  },
  {
   "cell_type": "code",
   "execution_count": null,
   "metadata": {
    "collapsed": true
   },
   "outputs": [],
   "source": [
    "'''\n",
    "total number of images in the dataset\n",
    "'''\n",
    "# from os import listdir\n",
    "# from os.path import isfile, join\n",
    "# #need actor name\n",
    "# image_path = \n",
    "# onlyfiles = [f for f in listdir(mypath) if isfile(join(mypath, f))]"
   ]
  },
  {
   "cell_type": "code",
   "execution_count": null,
   "metadata": {
    "collapsed": true
   },
   "outputs": [],
   "source": [
    "'''\n",
    "trying to see all \n",
    "'''\n",
    "# actor = 'Alec Baldwin'\n",
    "# start = np.where(y == actor)[0][0]\n",
    "# stop = np.where(y == actor)[0][-1]\n",
    "# actor_data = x[:,:,start:stop]\n",
    "# img=None\n",
    "# for i in range(actor_data.shape[2]):\n",
    "#     im = actor_data[:,:,i]\n",
    "#     plt.imshow(im, cmap=\"gray\")"
   ]
  }
 ],
 "metadata": {
  "kernelspec": {
   "display_name": "CSC411_py2",
   "language": "python",
   "name": "csc411_py2"
  },
  "language_info": {
   "codemirror_mode": {
    "name": "ipython",
    "version": 2
   },
   "file_extension": ".py",
   "mimetype": "text/x-python",
   "name": "python",
   "nbconvert_exporter": "python",
   "pygments_lexer": "ipython2",
   "version": "2.7.14"
  }
 },
 "nbformat": 4,
 "nbformat_minor": 2
}
