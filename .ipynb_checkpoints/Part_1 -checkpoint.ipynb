{
 "cells": [
  {
   "cell_type": "code",
   "execution_count": null,
   "metadata": {
    "collapsed": true
   },
   "outputs": [],
   "source": [
    "'''\n",
    "PURPOSE: \n",
    "Download images into folder\n",
    "    images/[actor]/[actor]_processed\n",
    "Process and save download images to folder\n",
    "    images/[actor]/[actor]_unprocessed\n",
    "create dataset: x, y\n",
    "'''"
   ]
  },
  {
   "cell_type": "code",
   "execution_count": null,
   "metadata": {
    "collapsed": true
   },
   "outputs": [],
   "source": [
    "import urllib\n",
    "import os\n",
    "import numpy as np\n",
    "import pandas as pd\n",
    "from random import randrange\n",
    "import sys\n",
    "from scipy.misc import imread, imshow, imresize, imsave\n",
    "import matplotlib.pyplot as plt"
   ]
  },
  {
   "cell_type": "code",
   "execution_count": null,
   "metadata": {
    "collapsed": true
   },
   "outputs": [],
   "source": [
    "def timeout(func, args=(), kwargs={}, timeout_duration=1, default=None):\n",
    "    '''From:\n",
    "    http://code.activestate.com/recipes/473878-timeout-function-using-threading/'''\n",
    "    import threading\n",
    "    class InterruptableThread(threading.Thread):\n",
    "        def __init__(self):\n",
    "            threading.Thread.__init__(self)\n",
    "            self.result = None\n",
    "\n",
    "        def run(self):\n",
    "            try:\n",
    "                self.result = func(*args, **kwargs)\n",
    "            except:\n",
    "                self.result = default\n",
    "\n",
    "    it = InterruptableThread()\n",
    "    it.start()\n",
    "    it.join(timeout_duration)\n",
    "    if it.isAlive():\n",
    "        return False\n",
    "    else:\n",
    "        return it.result"
   ]
  },
  {
   "cell_type": "code",
   "execution_count": null,
   "metadata": {
    "collapsed": true
   },
   "outputs": [],
   "source": [
    "def rgb2gray(rgb):\n",
    "    '''Return the grayscale version of the RGB image rgb as a 2D numpy array\n",
    "    whose range is 0..1\n",
    "    Arguments:\n",
    "    rgb -- an RGB image, represented as a numpy array of size n x m x 3. The\n",
    "    range of the values is 0..255\n",
    "    '''\n",
    "    \n",
    "    r, g, b = rgb[:,:,0], rgb[:,:,1], rgb[:,:,2]\n",
    "    gray = 0.2989 * r + 0.5870 * g + 0.1140 * b\n",
    "\n",
    "    return gray/255."
   ]
  },
  {
   "cell_type": "code",
   "execution_count": null,
   "metadata": {
    "collapsed": true
   },
   "outputs": [],
   "source": [
    "def process_img(image, coords):\n",
    "    image_cropped = image[coords[1]:coords[3], coords[0]:coords[2], :]\n",
    "    image_gray  = rgb2gray(image_cropped)\n",
    "    processed_image = imresize(image_gray, (32,32))\n",
    "    \n",
    "    return processed_image"
   ]
  },
  {
   "cell_type": "code",
   "execution_count": null,
   "metadata": {
    "collapsed": true
   },
   "outputs": [],
   "source": [
    "def to_list(coord_string):\n",
    "    return map(int,coord_string.split(\",\"))\n"
   ]
  },
  {
   "cell_type": "code",
   "execution_count": null,
   "metadata": {
    "collapsed": true
   },
   "outputs": [],
   "source": [
    "act = list(set([a.split(\"\\n\")[0] for a in open(\"subset_actors.txt\").readlines()]))"
   ]
  },
  {
   "cell_type": "code",
   "execution_count": null,
   "metadata": {
    "collapsed": true
   },
   "outputs": [],
   "source": [
    "#read line of image data\n",
    "facescrub_acts = pd.read_table(\"all_acts.txt\",sep=\"\\t\",header=None)\n",
    "facescrub_acts.columns = [\"Name\", \"Col1\", \"Col2\", \"URL\", \"Coordinates\", \"Col5\"]\n",
    "facescrub_acts_trimmed = facescrub_acts.drop(facescrub_acts.columns[[1,2,5]], axis = 1)"
   ]
  },
  {
   "cell_type": "code",
   "execution_count": null,
   "metadata": {
    "collapsed": true
   },
   "outputs": [],
   "source": [
    "#create directory for unprocessed images\n",
    "current_directory = os.getcwd()\n",
    "images = os.path.join(current_directory, r'images')\n",
    "if not os.path.exists(images):\n",
    "   os.makedirs(images)\n",
    "\n",
    "#create directory for each actor\n",
    "for actor in act:\n",
    "    actor_directory = os.path.join(images,actor)\n",
    "    if not os.path.exists(actor_directory):\n",
    "        os.makedirs(actor_directory)\n",
    "        os.makedirs(os.path.join(actor_directory,actor+r'_unprocessed'))\n",
    "        os.makedirs(os.path.join(actor_directory,actor+r'_processed'))\n"
   ]
  },
  {
   "cell_type": "code",
   "execution_count": null,
   "metadata": {
    "scrolled": true
   },
   "outputs": [],
   "source": [
    "#download and process images and create dataset\n",
    "\n",
    "i=0\n",
    "for index, row in facescrub_acts_trimmed.iterrows():\n",
    "    actor = row['Name']\n",
    "    if actor in act:\n",
    "          \n",
    "        image_name = actor+'_{}.jpg'.format(i)\n",
    "        unprocessed_dir = os.path.join(images,actor,actor+r'_unprocessed')\n",
    "        processed_dir = os.path.join(images,actor, actor+r'_processed')\n",
    "        image_name_w_path = os.path.join(unprocessed_dir,image_name)\n",
    "        processed_image_w_path = os.path.join(processed_dir,image_name)\n",
    "        \n",
    "        if (row['URL'] == \"http://www.sawfirst.com/wp-content/uploads/20\"):\n",
    "            #one awkward link that asks for a password...\n",
    "        else:\n",
    "            try:\n",
    "                #don't download images that take longer than 2 seconds (I pay for BELL's Fibe300)\n",
    "                timeout(urllib.urlretrieve, (row['URL'],image_name_w_path),{}, 2)\n",
    "                image= imread(image_name_w_path) #check to see if image actually opens, if it doesn't handle exception\n",
    "                image_processed = process_img(image, to_list(row['Coordinates'])) \n",
    "                imsave(processed_image_w_path, image_processed)\n",
    "\n",
    "                #create data set\n",
    "                if i == 0:\n",
    "                    x = image_processed\n",
    "                    y = np.array([actor])\n",
    "                else: \n",
    "                    x = np.dstack((x, image_processed))\n",
    "                    y = np.append(y,[actor])\n",
    "\n",
    "                i+=1 #if image file doesn't open, i won't be incremented\n",
    "                print(image_name_w_path)\n",
    "                print(\"working:     \"+row['URL'])\n",
    "\n",
    "            except Exception:\n",
    "                #if url is broken\n",
    "                sys.exc_clear()\n",
    "                print(\"not working:     \"+row['URL'])\n"
   ]
  },
  {
   "cell_type": "code",
   "execution_count": null,
   "metadata": {
    "collapsed": true
   },
   "outputs": [],
   "source": [
    "#save dataset\n",
    "np.save(os.path.join(os.getcwd(),\"x.npy\") ,x)\n",
    "np.save(os.path.join(os.getcwd(),\"y.npy\") ,y)\n"
   ]
  }
 ],
 "metadata": {
  "kernelspec": {
   "display_name": "CSC411_py2",
   "language": "python",
   "name": "csc411_py2"
  },
  "language_info": {
   "codemirror_mode": {
    "name": "ipython",
    "version": 2
   },
   "file_extension": ".py",
   "mimetype": "text/x-python",
   "name": "python",
   "nbconvert_exporter": "python",
   "pygments_lexer": "ipython2",
   "version": "2.7.14"
  }
 },
 "nbformat": 4,
 "nbformat_minor": 2
}
